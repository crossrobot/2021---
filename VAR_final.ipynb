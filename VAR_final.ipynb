{
  "nbformat": 4,
  "nbformat_minor": 0,
  "metadata": {
    "colab": {
      "name": "VAR_final.ipynb",
      "provenance": [],
      "include_colab_link": true
    },
    "kernelspec": {
      "name": "python3",
      "display_name": "Python 3"
    },
    "language_info": {
      "name": "python"
    }
  },
  "cells": [
    {
      "cell_type": "markdown",
      "metadata": {
        "id": "view-in-github",
        "colab_type": "text"
      },
      "source": [
        "<a href=\"https://colab.research.google.com/github/crossrobot/2021-Bigcontest-SportTech-Sector-YonseiDSL-/blob/main/VAR_final.ipynb\" target=\"_parent\"><img src=\"https://colab.research.google.com/assets/colab-badge.svg\" alt=\"Open In Colab\"/></a>"
      ]
    },
    {
      "cell_type": "markdown",
      "metadata": {
        "id": "iVmMHM-yPIA9"
      },
      "source": [
        "# Requirements"
      ]
    },
    {
      "cell_type": "code",
      "metadata": {
        "id": "u4p5XSHBPAHJ",
        "colab": {
          "base_uri": "https://localhost:8080/"
        },
        "outputId": "a59d63b0-267f-485a-e8b9-3c2c6ae5086f"
      },
      "source": [
        "#module \n",
        "import numpy as np\n",
        "import seaborn as sns\n",
        "import matplotlib.pyplot as plt\n",
        "import pandas as pd\n",
        "\n",
        "import statsmodels.api as sm\n",
        "from statsmodels.tsa.api import VAR\n",
        "from statsmodels.tsa.stattools import adfuller\n",
        "\n",
        "from sklearn.preprocessing import MinMaxScaler\n",
        "import tensorflow as tf \n",
        "import os\n",
        "import random\n",
        "import datetime\n",
        "from tqdm import tqdm\n",
        "\n",
        "from sklearn.metrics import mean_absolute_error\n",
        "from sklearn.metrics import mean_squared_error"
      ],
      "execution_count": null,
      "outputs": [
        {
          "output_type": "stream",
          "name": "stderr",
          "text": [
            "/usr/local/lib/python3.7/dist-packages/statsmodels/tools/_testing.py:19: FutureWarning: pandas.util.testing is deprecated. Use the functions in the public API at pandas.testing instead.\n",
            "  import pandas.util.testing as tm\n"
          ]
        }
      ]
    },
    {
      "cell_type": "code",
      "metadata": {
        "id": "eJAuyHXVPsLH",
        "colab": {
          "base_uri": "https://localhost:8080/"
        },
        "outputId": "67456b3f-5aa5-4d23-9d13-864b121756a4"
      },
      "source": [
        "#데이터 가져오기\n",
        "from google.colab import drive\n",
        "drive.mount('/content/drive')"
      ],
      "execution_count": null,
      "outputs": [
        {
          "output_type": "stream",
          "name": "stdout",
          "text": [
            "Mounted at /content/drive\n"
          ]
        }
      ]
    },
    {
      "cell_type": "markdown",
      "metadata": {
        "id": "dAJBDKDaPUFQ"
      },
      "source": [
        "# VAR"
      ]
    },
    {
      "cell_type": "markdown",
      "metadata": {
        "id": "sTF3564LPIkq"
      },
      "source": [
        "## Data Load & Preprocessing"
      ]
    },
    {
      "cell_type": "code",
      "metadata": {
        "id": "5GFfsPirP4n6"
      },
      "source": [
        "path =  '/content/drive/Shareddrives/Big Contest - BaseBall/빅콘테스트-야구/Final_Data/선수_경기별_데이터/'\n",
        "강백호_경기별 = pd.read_csv(os.path.join(path, '강백호경기별데이터.csv'), encoding = 'CP949')\n",
        "로맥_경기별 = pd.read_csv(os.path.join(path, '로맥경기별데이터.csv'), encoding = 'CP949')\n",
        "최정_경기별 = pd.read_csv(os.path.join(path, '최정경기별데이터.csv'), encoding = 'CP949')\n",
        "이정후_경기별 = pd.read_csv(os.path.join(path, '이정후경기별데이터.csv'), encoding = 'CP949')\n",
        "채은성_경기별 = pd.read_csv(os.path.join(path, '채은성경기별데이터.csv'), encoding = 'CP949')\n",
        "양의지_경기별 = pd.read_csv(os.path.join(path, '양의지경기별데이터.csv'), encoding = 'CP949')\n",
        "박건우_경기별 = pd.read_csv(os.path.join(path, '박건우경기별데이터.csv'), encoding = 'CP949')\n",
        "김현수_경기별 = pd.read_csv(os.path.join(path, '김현수경기별데이터.csv'), encoding = 'CP949')\n",
        "김재환_경기별 = pd.read_csv(os.path.join(path, '김재환경기별데이터.csv'), encoding = 'CP949')\n",
        "전준우_경기별 = pd.read_csv(os.path.join(path, '전준우경기별데이터.csv'), encoding = 'CP949')"
      ],
      "execution_count": null,
      "outputs": []
    },
    {
      "cell_type": "code",
      "metadata": {
        "id": "abB-Wrp9P4gg"
      },
      "source": [
        "# 날짜 정보를 생성하는 함수 \n",
        "def date_generator(dataset) : \n",
        "  dataset['date'] = dataset.apply(lambda x: str(x['연도'])+'년 '+x['날짜'], axis=1)\n",
        "  dataset['date'] = dataset['date'].apply(lambda x : datetime.datetime.strptime(x, '%Y년 %m월 %d일').date())\n",
        "  dataset = dataset.set_index('date', drop = False)\n",
        "  return dataset"
      ],
      "execution_count": null,
      "outputs": []
    },
    {
      "cell_type": "code",
      "metadata": {
        "id": "isgYThnuP4co"
      },
      "source": [
        "# 'date' 열 생성\n",
        "강백호_경기별 = date_generator(강백호_경기별)\n",
        "로맥_경기별 = date_generator(로맥_경기별)\n",
        "최정_경기별 = date_generator(최정_경기별)\n",
        "이정후_경기별 = date_generator(이정후_경기별)\n",
        "채은성_경기별 = date_generator(채은성_경기별)\n",
        "양의지_경기별 = date_generator(양의지_경기별)\n",
        "박건우_경기별 = date_generator(박건우_경기별)\n",
        "김현수_경기별 = date_generator(김현수_경기별)\n",
        "김재환_경기별 = date_generator(김재환_경기별)\n",
        "전준우_경기별 = date_generator(전준우_경기별)"
      ],
      "execution_count": null,
      "outputs": []
    },
    {
      "cell_type": "code",
      "metadata": {
        "id": "HTwKXmj9Qf3T"
      },
      "source": [
        "# 정규시즌 데이터 필터링 함수\n",
        "def season_selector(df) : \n",
        "  startdate2021 = datetime.datetime.strptime('2021-04-03', \"%Y-%m-%d\").date()\n",
        "  enddate2021 = datetime.datetime.strptime('2021-10-08', \"%Y-%m-%d\").date()\n",
        "  startdate2020 = datetime.datetime.strptime('2020-05-05', \"%Y-%m-%d\").date()\n",
        "  enddate2020 = datetime.datetime.strptime('2020-10-31', \"%Y-%m-%d\").date()\n",
        "  startdate2019 = datetime.datetime.strptime('2019-03-23', \"%Y-%m-%d\").date()\n",
        "  enddate2019 = datetime.datetime.strptime('2019-10-01', \"%Y-%m-%d\").date()\n",
        "  startdate2018 = datetime.datetime.strptime('2018-03-24', \"%Y-%m-%d\").date()\n",
        "  enddate2018 = datetime.datetime.strptime('2018-09-30', \"%Y-%m-%d\").date()\n",
        "\n",
        "  filtered = df[(((df['date'] >= startdate2021) & (df['date'] <= enddate2021)) | ((df['date'] >= startdate2020) & (df['date'] <=  enddate2020)) | ((df['date'] >= startdate2019) & (df['date'] <= enddate2019)) | ((df['date'] >= startdate2018) & (df['date'] <= enddate2018)) )]\n",
        "  return filtered"
      ],
      "execution_count": null,
      "outputs": []
    },
    {
      "cell_type": "code",
      "metadata": {
        "id": "B7ZPyAdxQrSu"
      },
      "source": [
        "# 필터링 된 데이터 \n",
        "강백호_경기별=season_selector(강백호_경기별)\n",
        "로맥_경기별=season_selector(로맥_경기별)\n",
        "최정_경기별=season_selector(최정_경기별)\n",
        "이정후_경기별=season_selector(이정후_경기별)\n",
        "채은성_경기별=season_selector(채은성_경기별)\n",
        "양의지_경기별=season_selector(양의지_경기별)\n",
        "박건우_경기별=season_selector(박건우_경기별)\n",
        "김현수_경기별=season_selector(김현수_경기별)\n",
        "김재환_경기별=season_selector(김재환_경기별)\n",
        "전준우_경기별=season_selector(전준우_경기별)"
      ],
      "execution_count": null,
      "outputs": []
    },
    {
      "cell_type": "code",
      "metadata": {
        "id": "7B1ML3dMQy-F"
      },
      "source": [
        "# 아웃라이어 필터링 함수  #why\n",
        "def outlier_filter(df) : \n",
        "  filtered_df = df[(df['OPS']>=0.75) & (df['OPS']<=1.2)]\n",
        "  return filtered_df   "
      ],
      "execution_count": null,
      "outputs": []
    },
    {
      "cell_type": "code",
      "metadata": {
        "id": "ZZTJNLqYQy4E"
      },
      "source": [
        "# 필터링 된 데이터 \n",
        "강백호_경기별=outlier_filter(강백호_경기별)\n",
        "로맥_경기별=outlier_filter(로맥_경기별)\n",
        "최정_경기별=outlier_filter(최정_경기별)\n",
        "이정후_경기별=outlier_filter(이정후_경기별)\n",
        "채은성_경기별=outlier_filter(채은성_경기별)\n",
        "양의지_경기별=outlier_filter(양의지_경기별)\n",
        "박건우_경기별=outlier_filter(박건우_경기별)\n",
        "김현수_경기별=outlier_filter(김현수_경기별)\n",
        "김재환_경기별=outlier_filter(김재환_경기별)\n",
        "전준우_경기별=outlier_filter(전준우_경기별)"
      ],
      "execution_count": null,
      "outputs": []
    },
    {
      "cell_type": "code",
      "metadata": {
        "id": "_l-Tt6xeQyzJ"
      },
      "source": [
        "# 타구와 관계가 없다고 판단되는  열들은 제거\n",
        "강백호_경기별 = 강백호_경기별.drop(['연도','날짜','상대','선발','결과','타순','P', '투구', '희타', '희비','date' ] , axis=1)\n",
        "로맥_경기별 = 로맥_경기별.drop(['연도','날짜','상대','선발','결과','타순','P', '투구', '희타', '희비','date'] , axis=1)\n",
        "최정_경기별 = 최정_경기별.drop(['연도','날짜','상대','선발','결과','타순','P', '투구','희타', '희비','date' ] , axis=1)    \n",
        "이정후_경기별 = 이정후_경기별.drop(['연도','날짜','상대','선발','결과','타순','P','투구','희타', '희비','date'] , axis=1)\n",
        "채은성_경기별 = 채은성_경기별.drop(['연도','날짜','상대','선발','결과','타순','P', '투구','희타', '희비' ,'date'] , axis=1)\n",
        "양의지_경기별 = 양의지_경기별.drop(['연도','날짜','상대','선발','결과','타순','P', '투구','희타', '희비' ,'date'] , axis=1)\n",
        "박건우_경기별 = 박건우_경기별.drop(['연도','날짜','상대','선발','결과','타순','P',  '투구','희타', '희비','date'] , axis=1)\n",
        "김현수_경기별 = 김현수_경기별.drop(['연도','날짜','상대','선발','결과','타순','P', '투구','희타', '희비','date' ] , axis=1)\n",
        "김재환_경기별 = 김재환_경기별.drop(['연도','날짜','상대','선발','결과','타순','P',  '투구' ,'희타', '희비','date'] , axis=1)\n",
        "전준우_경기별 = 전준우_경기별.drop(['연도','날짜','상대','선발','결과','타순','P', '투구','희타', '희비','date' ] , axis=1)\n",
        "\n",
        "선수_경기별_list = [강백호_경기별, 로맥_경기별, 최정_경기별, 이정후_경기별, 채은성_경기별, 양의지_경기별, 박건우_경기별, 김현수_경기별, 김재환_경기별, 전준우_경기별]"
      ],
      "execution_count": null,
      "outputs": []
    },
    {
      "cell_type": "markdown",
      "metadata": {
        "id": "_iDfbTE5PJRh"
      },
      "source": [
        "## Modeling"
      ]
    },
    {
      "cell_type": "markdown",
      "metadata": {
        "id": "DPfr2YquRrj_"
      },
      "source": [
        "### 1. ADF test\n",
        "정상성 검정을 통해 어떤 변수를 차분해야할지 결정한다.\n",
        "\n",
        "각 선수별로\n",
        "adf테스트 > 차분할 변수 선정 > 리스트에 담기 > 그 변수만 대상으로 adf테스트 > 그 변수를 포함하여 df 만들기 "
      ]
    },
    {
      "cell_type": "code",
      "metadata": {
        "id": "3-zjPV6Ib8s8",
        "colab": {
          "base_uri": "https://localhost:8080/"
        },
        "outputId": "06f4de39-4bc3-4576-f314-b9d65344056b"
      },
      "source": [
        "선수 = ['강백호', '로맥', '최정', '이정후', '채은성', '양의지', '박건우', '김현수', '김재환', '전준우']\n",
        "for 선수_경기별, j in tqdm(zip(선수_경기별_list,선수)):\n",
        "    print(\"---------------------------------------------------------------------------------------------------------\")\n",
        "    print(j)\n",
        "    df = 선수_경기별.copy()\n",
        "    candidate = []\n",
        "    for i in 선수_경기별.columns[:-1]: \n",
        "       adfuller_test = adfuller(df[i], autolag= \"AIC\")\n",
        "       p_value = adfuller_test[1]\n",
        "       if p_value > 0.05:\n",
        "         candidate.append(i) #차분 후보 변수 찾기\n",
        "    print(candidate)\n",
        "    candidate2 = []\n",
        "    if candidate !=[]:\n",
        "        for k in candidate:\n",
        "            df2 = df[[k]]\n",
        "            df2 = df2.diff().dropna()\n",
        "            adfuller_test = adfuller(df2[k], autolag= \"AIC\")\n",
        "            if p_value > 0.05:\n",
        "                candidate2.append(k) #차분 후보 변수 찾기\n",
        "    print(candidate2) "
      ],
      "execution_count": null,
      "outputs": [
        {
          "output_type": "stream",
          "name": "stderr",
          "text": [
            "\r0it [00:00, ?it/s]"
          ]
        },
        {
          "output_type": "stream",
          "name": "stdout",
          "text": [
            "---------------------------------------------------------------------------------------------------------\n",
            "강백호\n"
          ]
        },
        {
          "output_type": "stream",
          "name": "stderr",
          "text": [
            "\r1it [00:00,  1.77it/s]"
          ]
        },
        {
          "output_type": "stream",
          "name": "stdout",
          "text": [
            "['타율']\n",
            "[]\n",
            "---------------------------------------------------------------------------------------------------------\n",
            "로맥\n"
          ]
        },
        {
          "output_type": "stream",
          "name": "stderr",
          "text": [
            "\r2it [00:01,  1.48it/s]"
          ]
        },
        {
          "output_type": "stream",
          "name": "stdout",
          "text": [
            "['타율', '장타', 'OPS']\n",
            "[]\n",
            "---------------------------------------------------------------------------------------------------------\n",
            "최정\n"
          ]
        },
        {
          "output_type": "stream",
          "name": "stderr",
          "text": [
            "\r3it [00:01,  1.82it/s]"
          ]
        },
        {
          "output_type": "stream",
          "name": "stdout",
          "text": [
            "['출루']\n",
            "[]\n",
            "---------------------------------------------------------------------------------------------------------\n",
            "이정후\n"
          ]
        },
        {
          "output_type": "stream",
          "name": "stderr",
          "text": [
            "\r4it [00:02,  2.06it/s]"
          ]
        },
        {
          "output_type": "stream",
          "name": "stdout",
          "text": [
            "['장타', 'OPS']\n",
            "[]\n",
            "---------------------------------------------------------------------------------------------------------\n",
            "채은성\n"
          ]
        },
        {
          "output_type": "stream",
          "name": "stderr",
          "text": [
            "\r5it [00:02,  2.24it/s]"
          ]
        },
        {
          "output_type": "stream",
          "name": "stdout",
          "text": [
            "['타율', '출루', '장타', 'OPS']\n",
            "[]\n",
            "---------------------------------------------------------------------------------------------------------\n",
            "양의지\n"
          ]
        },
        {
          "output_type": "stream",
          "name": "stderr",
          "text": [
            "\r6it [00:02,  2.31it/s]"
          ]
        },
        {
          "output_type": "stream",
          "name": "stdout",
          "text": [
            "['타율', '장타', 'OPS']\n",
            "[]\n",
            "---------------------------------------------------------------------------------------------------------\n",
            "박건우\n"
          ]
        },
        {
          "output_type": "stream",
          "name": "stderr",
          "text": [
            "\r7it [00:03,  2.50it/s]"
          ]
        },
        {
          "output_type": "stream",
          "name": "stdout",
          "text": [
            "['출루']\n",
            "[]\n",
            "---------------------------------------------------------------------------------------------------------\n",
            "김현수\n"
          ]
        },
        {
          "output_type": "stream",
          "name": "stderr",
          "text": [
            "\r8it [00:03,  2.18it/s]"
          ]
        },
        {
          "output_type": "stream",
          "name": "stdout",
          "text": [
            "['장타', 'OPS']\n",
            "[]\n",
            "---------------------------------------------------------------------------------------------------------\n",
            "김재환\n"
          ]
        },
        {
          "output_type": "stream",
          "name": "stderr",
          "text": [
            "\r9it [00:04,  2.06it/s]"
          ]
        },
        {
          "output_type": "stream",
          "name": "stdout",
          "text": [
            "['장타']\n",
            "[]\n",
            "---------------------------------------------------------------------------------------------------------\n",
            "전준우\n"
          ]
        },
        {
          "output_type": "stream",
          "name": "stderr",
          "text": [
            "10it [00:04,  2.04it/s]"
          ]
        },
        {
          "output_type": "stream",
          "name": "stdout",
          "text": [
            "['장타']\n",
            "[]\n"
          ]
        },
        {
          "output_type": "stream",
          "name": "stderr",
          "text": [
            "\n"
          ]
        }
      ]
    },
    {
      "cell_type": "markdown",
      "metadata": {
        "id": "kHvTPvY080pM"
      },
      "source": [
        "ADF test결과, 1회 차분으로 모든 변수가 정상성을 가짐을 알 수 있다. "
      ]
    },
    {
      "cell_type": "code",
      "metadata": {
        "colab": {
          "base_uri": "https://localhost:8080/"
        },
        "id": "IBrbprlx880U",
        "outputId": "3a965034-097b-409e-b1f4-d7aff7c70be5"
      },
      "source": [
        "선수 = ['강백호', '로맥', '최정', '이정후', '채은성', '양의지', '박건우', '김현수', '김재환', '전준우']\n",
        "final_mse_ops = []\n",
        "final_mse_출루 = []\n",
        "final_mse_장타 = []\n",
        "for 선수_경기별, j in tqdm(zip(선수_경기별_list,선수)):\n",
        "  print(\"---------------------------------------------------------------------------------------------------------\")\n",
        "  print(j)\n",
        "  df = 선수_경기별.copy()\n",
        "  candidate = []\n",
        "  for i in 선수_경기별.columns: \n",
        "    adfuller_test = adfuller(df[i], autolag= \"AIC\")\n",
        "    p_value = adfuller_test[1]\n",
        "    if p_value > 0.05:\n",
        "       candidate.append(i) #차분 후보 변수 만들기\n",
        "  if candidate != []:\n",
        "    df2 = df[candidate]\n",
        "    df2 = df2.diff().fillna(0)\n",
        "    df3 = df.drop(candidate, axis = 1)\n",
        "    df4 = pd.concat([df2,df3],axis=1)\n",
        "    train_df = df4[:-21].copy()\n",
        "    test_df = df[-21:].copy()  \n",
        "    forecasting_model = VAR(train_df) \n",
        "    results = forecasting_model.fit(5) #Grid Search 결과, lag=5가 최적이 나왔음. \n",
        "    lagged_values = train_df.values[-5:]\n",
        "    forecast = pd.DataFrame(results.forecast(y =lagged_values, steps=21), index = test_df.index, columns = df4.columns)    \n",
        "    for a in candidate:\n",
        "        forecast[a] = df[a].iloc[-21-1] + forecast[a].cumsum()\n",
        "        table = pd.merge(forecast[['OPS','출루','장타']], test_df[['OPS','출루','장타']],left_on = 'date', right_on = 'date')\n",
        "    final_mse_ops.append(np.sqrt(mean_squared_error(table[['OPS_x']],table[['OPS_y']])))\n",
        "    final_mse_출루.append(np.sqrt(mean_squared_error(table[['출루_x']],table[['출루_y']])))\n",
        "    final_mse_장타.append(np.sqrt(mean_squared_error(table[['장타_x']],table[['장타_y']])))"
      ],
      "execution_count": null,
      "outputs": [
        {
          "output_type": "stream",
          "name": "stderr",
          "text": [
            "\r0it [00:00, ?it/s]"
          ]
        },
        {
          "output_type": "stream",
          "name": "stdout",
          "text": [
            "---------------------------------------------------------------------------------------------------------\n",
            "강백호\n"
          ]
        },
        {
          "output_type": "stream",
          "name": "stderr",
          "text": [
            "/usr/local/lib/python3.7/dist-packages/statsmodels/tsa/base/tsa_model.py:219: ValueWarning: A date index has been provided, but it has no associated frequency information and so will be ignored when e.g. forecasting.\n",
            "  ' ignored when e.g. forecasting.', ValueWarning)\n",
            "\r1it [00:00,  1.71it/s]"
          ]
        },
        {
          "output_type": "stream",
          "name": "stdout",
          "text": [
            "---------------------------------------------------------------------------------------------------------\n",
            "로맥\n"
          ]
        },
        {
          "output_type": "stream",
          "name": "stderr",
          "text": [
            "/usr/local/lib/python3.7/dist-packages/statsmodels/tsa/base/tsa_model.py:219: ValueWarning: A date index has been provided, but it has no associated frequency information and so will be ignored when e.g. forecasting.\n",
            "  ' ignored when e.g. forecasting.', ValueWarning)\n",
            "\r2it [00:01,  1.51it/s]"
          ]
        },
        {
          "output_type": "stream",
          "name": "stdout",
          "text": [
            "---------------------------------------------------------------------------------------------------------\n",
            "최정\n"
          ]
        },
        {
          "output_type": "stream",
          "name": "stderr",
          "text": [
            "/usr/local/lib/python3.7/dist-packages/statsmodels/tsa/base/tsa_model.py:219: ValueWarning: A date index has been provided, but it has no associated frequency information and so will be ignored when e.g. forecasting.\n",
            "  ' ignored when e.g. forecasting.', ValueWarning)\n",
            "\r3it [00:01,  1.79it/s]"
          ]
        },
        {
          "output_type": "stream",
          "name": "stdout",
          "text": [
            "---------------------------------------------------------------------------------------------------------\n",
            "이정후\n"
          ]
        },
        {
          "output_type": "stream",
          "name": "stderr",
          "text": [
            "/usr/local/lib/python3.7/dist-packages/statsmodels/tsa/base/tsa_model.py:219: ValueWarning: A date index has been provided, but it has no associated frequency information and so will be ignored when e.g. forecasting.\n",
            "  ' ignored when e.g. forecasting.', ValueWarning)\n",
            "\r4it [00:02,  1.97it/s]"
          ]
        },
        {
          "output_type": "stream",
          "name": "stdout",
          "text": [
            "---------------------------------------------------------------------------------------------------------\n",
            "채은성\n"
          ]
        },
        {
          "output_type": "stream",
          "name": "stderr",
          "text": [
            "/usr/local/lib/python3.7/dist-packages/statsmodels/tsa/base/tsa_model.py:219: ValueWarning: A date index has been provided, but it has no associated frequency information and so will be ignored when e.g. forecasting.\n",
            "  ' ignored when e.g. forecasting.', ValueWarning)\n",
            "\r5it [00:02,  2.12it/s]"
          ]
        },
        {
          "output_type": "stream",
          "name": "stdout",
          "text": [
            "---------------------------------------------------------------------------------------------------------\n",
            "양의지\n"
          ]
        },
        {
          "output_type": "stream",
          "name": "stderr",
          "text": [
            "/usr/local/lib/python3.7/dist-packages/statsmodels/tsa/base/tsa_model.py:219: ValueWarning: A date index has been provided, but it has no associated frequency information and so will be ignored when e.g. forecasting.\n",
            "  ' ignored when e.g. forecasting.', ValueWarning)\n",
            "\r6it [00:03,  2.17it/s]"
          ]
        },
        {
          "output_type": "stream",
          "name": "stdout",
          "text": [
            "---------------------------------------------------------------------------------------------------------\n",
            "박건우\n"
          ]
        },
        {
          "output_type": "stream",
          "name": "stderr",
          "text": [
            "/usr/local/lib/python3.7/dist-packages/statsmodels/tsa/base/tsa_model.py:219: ValueWarning: A date index has been provided, but it has no associated frequency information and so will be ignored when e.g. forecasting.\n",
            "  ' ignored when e.g. forecasting.', ValueWarning)\n",
            "\r7it [00:03,  2.27it/s]"
          ]
        },
        {
          "output_type": "stream",
          "name": "stdout",
          "text": [
            "---------------------------------------------------------------------------------------------------------\n",
            "김현수\n"
          ]
        },
        {
          "output_type": "stream",
          "name": "stderr",
          "text": [
            "/usr/local/lib/python3.7/dist-packages/statsmodels/tsa/base/tsa_model.py:219: ValueWarning: A date index has been provided, but it has no associated frequency information and so will be ignored when e.g. forecasting.\n",
            "  ' ignored when e.g. forecasting.', ValueWarning)\n",
            "\r8it [00:04,  2.04it/s]"
          ]
        },
        {
          "output_type": "stream",
          "name": "stdout",
          "text": [
            "---------------------------------------------------------------------------------------------------------\n",
            "김재환\n"
          ]
        },
        {
          "output_type": "stream",
          "name": "stderr",
          "text": [
            "/usr/local/lib/python3.7/dist-packages/statsmodels/tsa/base/tsa_model.py:219: ValueWarning: A date index has been provided, but it has no associated frequency information and so will be ignored when e.g. forecasting.\n",
            "  ' ignored when e.g. forecasting.', ValueWarning)\n",
            "\r9it [00:04,  1.92it/s]"
          ]
        },
        {
          "output_type": "stream",
          "name": "stdout",
          "text": [
            "---------------------------------------------------------------------------------------------------------\n",
            "전준우\n"
          ]
        },
        {
          "output_type": "stream",
          "name": "stderr",
          "text": [
            "/usr/local/lib/python3.7/dist-packages/statsmodels/tsa/base/tsa_model.py:219: ValueWarning: A date index has been provided, but it has no associated frequency information and so will be ignored when e.g. forecasting.\n",
            "  ' ignored when e.g. forecasting.', ValueWarning)\n",
            "10it [00:05,  1.92it/s]\n"
          ]
        }
      ]
    },
    {
      "cell_type": "code",
      "metadata": {
        "colab": {
          "base_uri": "https://localhost:8080/",
          "height": 864
        },
        "id": "7083U0BXnPch",
        "outputId": "f4cb08eb-cf49-4993-f044-410c6873664f"
      },
      "source": [
        "table"
      ],
      "execution_count": null,
      "outputs": [
        {
          "output_type": "execute_result",
          "data": {
            "text/html": [
              "<div>\n",
              "<style scoped>\n",
              "    .dataframe tbody tr th:only-of-type {\n",
              "        vertical-align: middle;\n",
              "    }\n",
              "\n",
              "    .dataframe tbody tr th {\n",
              "        vertical-align: top;\n",
              "    }\n",
              "\n",
              "    .dataframe thead th {\n",
              "        text-align: right;\n",
              "    }\n",
              "</style>\n",
              "<table border=\"1\" class=\"dataframe\">\n",
              "  <thead>\n",
              "    <tr style=\"text-align: right;\">\n",
              "      <th></th>\n",
              "      <th>OPS_x</th>\n",
              "      <th>출루_x</th>\n",
              "      <th>장타_x</th>\n",
              "      <th>OPS_y</th>\n",
              "      <th>출루_y</th>\n",
              "      <th>장타_y</th>\n",
              "    </tr>\n",
              "    <tr>\n",
              "      <th>date</th>\n",
              "      <th></th>\n",
              "      <th></th>\n",
              "      <th></th>\n",
              "      <th></th>\n",
              "      <th></th>\n",
              "      <th></th>\n",
              "    </tr>\n",
              "  </thead>\n",
              "  <tbody>\n",
              "    <tr>\n",
              "      <th>2021-08-18</th>\n",
              "      <td>0.836724</td>\n",
              "      <td>0.400559</td>\n",
              "      <td>0.436260</td>\n",
              "      <td>0.817</td>\n",
              "      <td>0.395</td>\n",
              "      <td>0.422</td>\n",
              "    </tr>\n",
              "    <tr>\n",
              "      <th>2021-08-20</th>\n",
              "      <td>0.835613</td>\n",
              "      <td>0.397566</td>\n",
              "      <td>0.438355</td>\n",
              "      <td>0.811</td>\n",
              "      <td>0.392</td>\n",
              "      <td>0.419</td>\n",
              "    </tr>\n",
              "    <tr>\n",
              "      <th>2021-08-22</th>\n",
              "      <td>0.842650</td>\n",
              "      <td>0.400088</td>\n",
              "      <td>0.442942</td>\n",
              "      <td>0.802</td>\n",
              "      <td>0.388</td>\n",
              "      <td>0.414</td>\n",
              "    </tr>\n",
              "    <tr>\n",
              "      <th>2021-08-23</th>\n",
              "      <td>0.850491</td>\n",
              "      <td>0.403109</td>\n",
              "      <td>0.447736</td>\n",
              "      <td>0.805</td>\n",
              "      <td>0.390</td>\n",
              "      <td>0.414</td>\n",
              "    </tr>\n",
              "    <tr>\n",
              "      <th>2021-08-25</th>\n",
              "      <td>0.849596</td>\n",
              "      <td>0.402108</td>\n",
              "      <td>0.448049</td>\n",
              "      <td>0.807</td>\n",
              "      <td>0.390</td>\n",
              "      <td>0.417</td>\n",
              "    </tr>\n",
              "    <tr>\n",
              "      <th>2021-08-26</th>\n",
              "      <td>0.846436</td>\n",
              "      <td>0.400890</td>\n",
              "      <td>0.445865</td>\n",
              "      <td>0.808</td>\n",
              "      <td>0.391</td>\n",
              "      <td>0.416</td>\n",
              "    </tr>\n",
              "    <tr>\n",
              "      <th>2021-08-28</th>\n",
              "      <td>0.849053</td>\n",
              "      <td>0.401144</td>\n",
              "      <td>0.448296</td>\n",
              "      <td>0.813</td>\n",
              "      <td>0.392</td>\n",
              "      <td>0.422</td>\n",
              "    </tr>\n",
              "    <tr>\n",
              "      <th>2021-08-29</th>\n",
              "      <td>0.851328</td>\n",
              "      <td>0.401771</td>\n",
              "      <td>0.449922</td>\n",
              "      <td>0.813</td>\n",
              "      <td>0.390</td>\n",
              "      <td>0.423</td>\n",
              "    </tr>\n",
              "    <tr>\n",
              "      <th>2021-08-31</th>\n",
              "      <td>0.851081</td>\n",
              "      <td>0.400209</td>\n",
              "      <td>0.451268</td>\n",
              "      <td>0.811</td>\n",
              "      <td>0.389</td>\n",
              "      <td>0.422</td>\n",
              "    </tr>\n",
              "    <tr>\n",
              "      <th>2021-09-03</th>\n",
              "      <td>0.853270</td>\n",
              "      <td>0.399971</td>\n",
              "      <td>0.453653</td>\n",
              "      <td>0.821</td>\n",
              "      <td>0.390</td>\n",
              "      <td>0.431</td>\n",
              "    </tr>\n",
              "    <tr>\n",
              "      <th>2021-09-03</th>\n",
              "      <td>0.853270</td>\n",
              "      <td>0.399971</td>\n",
              "      <td>0.453653</td>\n",
              "      <td>0.818</td>\n",
              "      <td>0.388</td>\n",
              "      <td>0.429</td>\n",
              "    </tr>\n",
              "    <tr>\n",
              "      <th>2021-09-03</th>\n",
              "      <td>0.853034</td>\n",
              "      <td>0.398764</td>\n",
              "      <td>0.454638</td>\n",
              "      <td>0.821</td>\n",
              "      <td>0.390</td>\n",
              "      <td>0.431</td>\n",
              "    </tr>\n",
              "    <tr>\n",
              "      <th>2021-09-03</th>\n",
              "      <td>0.853034</td>\n",
              "      <td>0.398764</td>\n",
              "      <td>0.454638</td>\n",
              "      <td>0.818</td>\n",
              "      <td>0.388</td>\n",
              "      <td>0.429</td>\n",
              "    </tr>\n",
              "    <tr>\n",
              "      <th>2021-09-04</th>\n",
              "      <td>0.853863</td>\n",
              "      <td>0.398163</td>\n",
              "      <td>0.456101</td>\n",
              "      <td>0.818</td>\n",
              "      <td>0.389</td>\n",
              "      <td>0.429</td>\n",
              "    </tr>\n",
              "    <tr>\n",
              "      <th>2021-09-05</th>\n",
              "      <td>0.855932</td>\n",
              "      <td>0.398303</td>\n",
              "      <td>0.458009</td>\n",
              "      <td>0.811</td>\n",
              "      <td>0.386</td>\n",
              "      <td>0.425</td>\n",
              "    </tr>\n",
              "    <tr>\n",
              "      <th>2021-09-07</th>\n",
              "      <td>0.857469</td>\n",
              "      <td>0.398069</td>\n",
              "      <td>0.459798</td>\n",
              "      <td>0.806</td>\n",
              "      <td>0.384</td>\n",
              "      <td>0.422</td>\n",
              "    </tr>\n",
              "    <tr>\n",
              "      <th>2021-09-08</th>\n",
              "      <td>0.857651</td>\n",
              "      <td>0.397464</td>\n",
              "      <td>0.460565</td>\n",
              "      <td>0.799</td>\n",
              "      <td>0.380</td>\n",
              "      <td>0.419</td>\n",
              "    </tr>\n",
              "    <tr>\n",
              "      <th>2021-09-09</th>\n",
              "      <td>0.858449</td>\n",
              "      <td>0.396987</td>\n",
              "      <td>0.461853</td>\n",
              "      <td>0.791</td>\n",
              "      <td>0.377</td>\n",
              "      <td>0.415</td>\n",
              "    </tr>\n",
              "    <tr>\n",
              "      <th>2021-09-10</th>\n",
              "      <td>0.859371</td>\n",
              "      <td>0.396650</td>\n",
              "      <td>0.463105</td>\n",
              "      <td>0.796</td>\n",
              "      <td>0.378</td>\n",
              "      <td>0.418</td>\n",
              "    </tr>\n",
              "    <tr>\n",
              "      <th>2021-09-11</th>\n",
              "      <td>0.859752</td>\n",
              "      <td>0.396036</td>\n",
              "      <td>0.464105</td>\n",
              "      <td>0.807</td>\n",
              "      <td>0.380</td>\n",
              "      <td>0.427</td>\n",
              "    </tr>\n",
              "    <tr>\n",
              "      <th>2021-09-12</th>\n",
              "      <td>0.860418</td>\n",
              "      <td>0.395575</td>\n",
              "      <td>0.465231</td>\n",
              "      <td>0.809</td>\n",
              "      <td>0.381</td>\n",
              "      <td>0.427</td>\n",
              "    </tr>\n",
              "    <tr>\n",
              "      <th>2021-09-12</th>\n",
              "      <td>0.860418</td>\n",
              "      <td>0.395575</td>\n",
              "      <td>0.465231</td>\n",
              "      <td>0.804</td>\n",
              "      <td>0.380</td>\n",
              "      <td>0.424</td>\n",
              "    </tr>\n",
              "    <tr>\n",
              "      <th>2021-09-12</th>\n",
              "      <td>0.860910</td>\n",
              "      <td>0.395096</td>\n",
              "      <td>0.466201</td>\n",
              "      <td>0.809</td>\n",
              "      <td>0.381</td>\n",
              "      <td>0.427</td>\n",
              "    </tr>\n",
              "    <tr>\n",
              "      <th>2021-09-12</th>\n",
              "      <td>0.860910</td>\n",
              "      <td>0.395096</td>\n",
              "      <td>0.466201</td>\n",
              "      <td>0.804</td>\n",
              "      <td>0.380</td>\n",
              "      <td>0.424</td>\n",
              "    </tr>\n",
              "    <tr>\n",
              "      <th>2021-09-14</th>\n",
              "      <td>0.861516</td>\n",
              "      <td>0.394677</td>\n",
              "      <td>0.467234</td>\n",
              "      <td>0.810</td>\n",
              "      <td>0.383</td>\n",
              "      <td>0.428</td>\n",
              "    </tr>\n",
              "  </tbody>\n",
              "</table>\n",
              "</div>"
            ],
            "text/plain": [
              "               OPS_x      출루_x      장타_x  OPS_y   출루_y   장타_y\n",
              "date                                                         \n",
              "2021-08-18  0.836724  0.400559  0.436260  0.817  0.395  0.422\n",
              "2021-08-20  0.835613  0.397566  0.438355  0.811  0.392  0.419\n",
              "2021-08-22  0.842650  0.400088  0.442942  0.802  0.388  0.414\n",
              "2021-08-23  0.850491  0.403109  0.447736  0.805  0.390  0.414\n",
              "2021-08-25  0.849596  0.402108  0.448049  0.807  0.390  0.417\n",
              "2021-08-26  0.846436  0.400890  0.445865  0.808  0.391  0.416\n",
              "2021-08-28  0.849053  0.401144  0.448296  0.813  0.392  0.422\n",
              "2021-08-29  0.851328  0.401771  0.449922  0.813  0.390  0.423\n",
              "2021-08-31  0.851081  0.400209  0.451268  0.811  0.389  0.422\n",
              "2021-09-03  0.853270  0.399971  0.453653  0.821  0.390  0.431\n",
              "2021-09-03  0.853270  0.399971  0.453653  0.818  0.388  0.429\n",
              "2021-09-03  0.853034  0.398764  0.454638  0.821  0.390  0.431\n",
              "2021-09-03  0.853034  0.398764  0.454638  0.818  0.388  0.429\n",
              "2021-09-04  0.853863  0.398163  0.456101  0.818  0.389  0.429\n",
              "2021-09-05  0.855932  0.398303  0.458009  0.811  0.386  0.425\n",
              "2021-09-07  0.857469  0.398069  0.459798  0.806  0.384  0.422\n",
              "2021-09-08  0.857651  0.397464  0.460565  0.799  0.380  0.419\n",
              "2021-09-09  0.858449  0.396987  0.461853  0.791  0.377  0.415\n",
              "2021-09-10  0.859371  0.396650  0.463105  0.796  0.378  0.418\n",
              "2021-09-11  0.859752  0.396036  0.464105  0.807  0.380  0.427\n",
              "2021-09-12  0.860418  0.395575  0.465231  0.809  0.381  0.427\n",
              "2021-09-12  0.860418  0.395575  0.465231  0.804  0.380  0.424\n",
              "2021-09-12  0.860910  0.395096  0.466201  0.809  0.381  0.427\n",
              "2021-09-12  0.860910  0.395096  0.466201  0.804  0.380  0.424\n",
              "2021-09-14  0.861516  0.394677  0.467234  0.810  0.383  0.428"
            ]
          },
          "metadata": {},
          "execution_count": 13
        }
      ]
    },
    {
      "cell_type": "code",
      "metadata": {
        "colab": {
          "base_uri": "https://localhost:8080/",
          "height": 363
        },
        "id": "PAu0AU-ii_8z",
        "outputId": "ef7fd7c1-2fa0-4d35-ef6e-94baf298a097"
      },
      "source": [
        "d = {'OPS':final_mse_ops,'출루':final_mse_출루, '장타':final_mse_장타}\n",
        "df = pd.DataFrame(data=d, index = 선수)\n",
        "df"
      ],
      "execution_count": null,
      "outputs": [
        {
          "output_type": "execute_result",
          "data": {
            "text/html": [
              "<div>\n",
              "<style scoped>\n",
              "    .dataframe tbody tr th:only-of-type {\n",
              "        vertical-align: middle;\n",
              "    }\n",
              "\n",
              "    .dataframe tbody tr th {\n",
              "        vertical-align: top;\n",
              "    }\n",
              "\n",
              "    .dataframe thead th {\n",
              "        text-align: right;\n",
              "    }\n",
              "</style>\n",
              "<table border=\"1\" class=\"dataframe\">\n",
              "  <thead>\n",
              "    <tr style=\"text-align: right;\">\n",
              "      <th></th>\n",
              "      <th>OPS</th>\n",
              "      <th>출루</th>\n",
              "      <th>장타</th>\n",
              "    </tr>\n",
              "  </thead>\n",
              "  <tbody>\n",
              "    <tr>\n",
              "      <th>강백호</th>\n",
              "      <td>0.016663</td>\n",
              "      <td>0.021875</td>\n",
              "      <td>0.014944</td>\n",
              "    </tr>\n",
              "    <tr>\n",
              "      <th>로맥</th>\n",
              "      <td>0.014483</td>\n",
              "      <td>0.007441</td>\n",
              "      <td>0.011644</td>\n",
              "    </tr>\n",
              "    <tr>\n",
              "      <th>최정</th>\n",
              "      <td>0.043487</td>\n",
              "      <td>0.010180</td>\n",
              "      <td>0.034315</td>\n",
              "    </tr>\n",
              "    <tr>\n",
              "      <th>이정후</th>\n",
              "      <td>0.043244</td>\n",
              "      <td>0.016744</td>\n",
              "      <td>0.026299</td>\n",
              "    </tr>\n",
              "    <tr>\n",
              "      <th>채은성</th>\n",
              "      <td>0.021014</td>\n",
              "      <td>0.009778</td>\n",
              "      <td>0.018329</td>\n",
              "    </tr>\n",
              "    <tr>\n",
              "      <th>양의지</th>\n",
              "      <td>0.030862</td>\n",
              "      <td>0.009982</td>\n",
              "      <td>0.021034</td>\n",
              "    </tr>\n",
              "    <tr>\n",
              "      <th>박건우</th>\n",
              "      <td>0.030986</td>\n",
              "      <td>0.024457</td>\n",
              "      <td>0.018885</td>\n",
              "    </tr>\n",
              "    <tr>\n",
              "      <th>김현수</th>\n",
              "      <td>0.085358</td>\n",
              "      <td>0.015613</td>\n",
              "      <td>0.069765</td>\n",
              "    </tr>\n",
              "    <tr>\n",
              "      <th>김재환</th>\n",
              "      <td>0.021930</td>\n",
              "      <td>0.008403</td>\n",
              "      <td>0.015491</td>\n",
              "    </tr>\n",
              "    <tr>\n",
              "      <th>전준우</th>\n",
              "      <td>0.045642</td>\n",
              "      <td>0.012912</td>\n",
              "      <td>0.033242</td>\n",
              "    </tr>\n",
              "  </tbody>\n",
              "</table>\n",
              "</div>"
            ],
            "text/plain": [
              "          OPS        출루        장타\n",
              "강백호  0.016663  0.021875  0.014944\n",
              "로맥   0.014483  0.007441  0.011644\n",
              "최정   0.043487  0.010180  0.034315\n",
              "이정후  0.043244  0.016744  0.026299\n",
              "채은성  0.021014  0.009778  0.018329\n",
              "양의지  0.030862  0.009982  0.021034\n",
              "박건우  0.030986  0.024457  0.018885\n",
              "김현수  0.085358  0.015613  0.069765\n",
              "김재환  0.021930  0.008403  0.015491\n",
              "전준우  0.045642  0.012912  0.033242"
            ]
          },
          "metadata": {},
          "execution_count": 21
        }
      ]
    },
    {
      "cell_type": "code",
      "metadata": {
        "colab": {
          "base_uri": "https://localhost:8080/"
        },
        "id": "8Ys5fLjiEGF_",
        "outputId": "5369fcb9-fca8-472a-a8f1-ae2e1e4c22d4"
      },
      "source": [
        "df['OPS'].mean()"
      ],
      "execution_count": null,
      "outputs": [
        {
          "output_type": "execute_result",
          "data": {
            "text/plain": [
              "0.03536674534681935"
            ]
          },
          "metadata": {},
          "execution_count": 23
        }
      ]
    },
    {
      "cell_type": "code",
      "metadata": {
        "colab": {
          "base_uri": "https://localhost:8080/"
        },
        "id": "ILFHjm7aELxc",
        "outputId": "e74eab84-7128-4506-aa97-b6a14c7d1a1b"
      },
      "source": [
        "df['출루'].mean()"
      ],
      "execution_count": null,
      "outputs": [
        {
          "output_type": "execute_result",
          "data": {
            "text/plain": [
              "0.013738461016551618"
            ]
          },
          "metadata": {},
          "execution_count": 24
        }
      ]
    },
    {
      "cell_type": "code",
      "metadata": {
        "colab": {
          "base_uri": "https://localhost:8080/"
        },
        "id": "WZtD5vqYELVg",
        "outputId": "4d4b7316-95a6-4792-8a6c-fc7e9e19cc16"
      },
      "source": [
        "df['장타'].mean()"
      ],
      "execution_count": null,
      "outputs": [
        {
          "output_type": "execute_result",
          "data": {
            "text/plain": [
              "0.02639475161035551"
            ]
          },
          "metadata": {},
          "execution_count": 25
        }
      ]
    },
    {
      "cell_type": "markdown",
      "metadata": {
        "id": "MHmen_UwPaR7"
      },
      "source": [
        "## Model Training"
      ]
    },
    {
      "cell_type": "code",
      "metadata": {
        "colab": {
          "base_uri": "https://localhost:8080/"
        },
        "id": "Dkg5kwvGHQnN",
        "outputId": "aedddb6d-3d6a-41bb-b738-209663b94e0f"
      },
      "source": [
        "선수 = ['강백호', '로맥', '최정', '이정후', '채은성', '양의지', '박건우', '김현수', '김재환', '전준우']\n",
        "object_index = [1,2,3,4,5,6,7,8,9,10,11,12,13,14,15,16,17,18,19,20,21]\n",
        "final_forecast = []\n",
        "for 선수_경기별, j in tqdm(zip(선수_경기별_list,선수)):\n",
        "  print(\"---------------------------------------------------------------------------------------------------------\")\n",
        "  print(j)\n",
        "  df = 선수_경기별.copy()\n",
        "  candidate = []\n",
        "  for i in 선수_경기별.columns: \n",
        "    adfuller_test = adfuller(df[i], autolag= \"AIC\")\n",
        "    p_value = adfuller_test[1]\n",
        "    if p_value > 0.05:\n",
        "       candidate.append(i) #차분 후보 변수 만들기\n",
        "  if candidate != []:\n",
        "    df2 = df[candidate]\n",
        "    df2 = df2.diff().fillna(0)\n",
        "    df3 = df.drop(candidate, axis = 1)\n",
        "    df4 = pd.concat([df2,df3],axis=1) #최종예측에 사용되는 data \n",
        "    forecasting_model = VAR(df4)\n",
        "    results = forecasting_model.fit(5) #Grid Search 결과, lag=5가 최적이 나왔음. \n",
        "    lagged_values = df4.values[-5:]\n",
        "    forecast = pd.DataFrame(results.forecast(y =lagged_values, steps=21), index = object_index , columns = df4.columns)    \n",
        "    for a in candidate:\n",
        "        forecast[a] = df[a].iloc[-21-1] + forecast[a].cumsum()\n",
        "    print(\" \")\n",
        "    print(forecast[['OPS','장타','출루']])\n",
        "    final = forecast[['OPS','장타','출루']].mean()\n",
        "    final_forecast.append(final)\n",
        "  \n",
        "     "
      ],
      "execution_count": null,
      "outputs": [
        {
          "output_type": "stream",
          "name": "stderr",
          "text": [
            "\r0it [00:00, ?it/s]"
          ]
        },
        {
          "output_type": "stream",
          "name": "stdout",
          "text": [
            "---------------------------------------------------------------------------------------------------------\n",
            "강백호\n"
          ]
        },
        {
          "output_type": "stream",
          "name": "stderr",
          "text": [
            "/usr/local/lib/python3.7/dist-packages/statsmodels/tsa/base/tsa_model.py:219: ValueWarning: A date index has been provided, but it has no associated frequency information and so will be ignored when e.g. forecasting.\n",
            "  ' ignored when e.g. forecasting.', ValueWarning)\n",
            "\r1it [00:00,  1.72it/s]"
          ]
        },
        {
          "output_type": "stream",
          "name": "stdout",
          "text": [
            " \n",
            "         OPS        장타        출루\n",
            "1   1.050209  0.592663  0.457480\n",
            "2   1.014992  0.565357  0.449501\n",
            "3   1.009093  0.559519  0.449831\n",
            "4   1.006883  0.560433  0.446390\n",
            "5   1.009408  0.563650  0.445764\n",
            "6   1.010133  0.561393  0.448844\n",
            "7   1.010584  0.563109  0.447469\n",
            "8   0.999874  0.557249  0.442640\n",
            "9   0.999783  0.556041  0.443693\n",
            "10  0.996942  0.555411  0.441513\n",
            "11  0.994842  0.554293  0.440551\n",
            "12  0.995239  0.554652  0.440583\n",
            "13  0.995358  0.555027  0.440364\n",
            "14  0.995080  0.554948  0.440115\n",
            "15  0.995124  0.555333  0.439782\n",
            "16  0.995179  0.555564  0.439618\n",
            "17  0.993163  0.554458  0.438692\n",
            "18  0.992396  0.554170  0.438220\n",
            "19  0.990865  0.553380  0.437481\n",
            "20  0.990002  0.553017  0.436981\n",
            "21  0.989462  0.552778  0.436681\n",
            "---------------------------------------------------------------------------------------------------------\n",
            "로맥\n"
          ]
        },
        {
          "output_type": "stream",
          "name": "stderr",
          "text": [
            "/usr/local/lib/python3.7/dist-packages/statsmodels/tsa/base/tsa_model.py:219: ValueWarning: A date index has been provided, but it has no associated frequency information and so will be ignored when e.g. forecasting.\n",
            "  ' ignored when e.g. forecasting.', ValueWarning)\n",
            "\r2it [00:01,  1.57it/s]"
          ]
        },
        {
          "output_type": "stream",
          "name": "stdout",
          "text": [
            " \n",
            "         OPS        장타        출루\n",
            "1   0.810041  0.458792  0.344781\n",
            "2   0.806930  0.457489  0.343287\n",
            "3   0.807111  0.454700  0.346344\n",
            "4   0.807035  0.455128  0.345872\n",
            "5   0.807213  0.454600  0.346557\n",
            "6   0.801086  0.448741  0.346187\n",
            "7   0.807164  0.452634  0.348435\n",
            "8   0.809121  0.455137  0.348046\n",
            "9   0.810720  0.455717  0.349015\n",
            "10  0.811022  0.455475  0.349504\n",
            "11  0.812654  0.456003  0.350617\n",
            "12  0.812656  0.455803  0.350844\n",
            "13  0.813275  0.456118  0.351161\n",
            "14  0.813315  0.455781  0.351547\n",
            "15  0.813873  0.455765  0.352105\n",
            "16  0.814364  0.456096  0.352276\n",
            "17  0.814810  0.456240  0.352586\n",
            "18  0.814982  0.456046  0.352962\n",
            "19  0.815418  0.456033  0.353416\n",
            "20  0.815523  0.455898  0.353652\n",
            "21  0.815821  0.455876  0.353977\n",
            "---------------------------------------------------------------------------------------------------------\n",
            "최정\n"
          ]
        },
        {
          "output_type": "stream",
          "name": "stderr",
          "text": [
            "/usr/local/lib/python3.7/dist-packages/statsmodels/tsa/base/tsa_model.py:219: ValueWarning: A date index has been provided, but it has no associated frequency information and so will be ignored when e.g. forecasting.\n",
            "  ' ignored when e.g. forecasting.', ValueWarning)\n",
            "\r3it [00:01,  1.83it/s]"
          ]
        },
        {
          "output_type": "stream",
          "name": "stdout",
          "text": [
            " \n",
            "         OPS        장타        출루\n",
            "1   0.995485  0.592135  0.415247\n",
            "2   0.991640  0.593627  0.409883\n",
            "3   0.986359  0.586826  0.411732\n",
            "4   0.991450  0.591704  0.411401\n",
            "5   0.981065  0.581997  0.410809\n",
            "6   0.975672  0.576545  0.410870\n",
            "7   0.973800  0.575046  0.410636\n",
            "8   0.977574  0.580186  0.409164\n",
            "9   0.982750  0.586511  0.408008\n",
            "10  0.983335  0.587924  0.407145\n",
            "11  0.979984  0.583356  0.408398\n",
            "12  0.975837  0.579472  0.408148\n",
            "13  0.973710  0.578284  0.407180\n",
            "14  0.973227  0.577938  0.407051\n",
            "15  0.972322  0.577597  0.406484\n",
            "16  0.970571  0.576272  0.406062\n",
            "17  0.969293  0.575193  0.405854\n",
            "18  0.968080  0.574191  0.405637\n",
            "19  0.966956  0.573414  0.405298\n",
            "20  0.965599  0.572293  0.405052\n",
            "21  0.964380  0.571183  0.404941\n",
            "---------------------------------------------------------------------------------------------------------\n",
            "이정후\n"
          ]
        },
        {
          "output_type": "stream",
          "name": "stderr",
          "text": [
            "/usr/local/lib/python3.7/dist-packages/statsmodels/tsa/base/tsa_model.py:219: ValueWarning: A date index has been provided, but it has no associated frequency information and so will be ignored when e.g. forecasting.\n",
            "  ' ignored when e.g. forecasting.', ValueWarning)\n",
            "\r4it [00:02,  1.98it/s]"
          ]
        },
        {
          "output_type": "stream",
          "name": "stdout",
          "text": [
            " \n",
            "         OPS        장타        출루\n",
            "1   0.992544  0.538681  0.455933\n",
            "2   0.985542  0.541205  0.446171\n",
            "3   0.976311  0.535132  0.443144\n",
            "4   0.970973  0.532106  0.440286\n",
            "5   0.966663  0.532687  0.435775\n",
            "6   0.964073  0.532890  0.432965\n",
            "7   0.959825  0.528492  0.432949\n",
            "8   0.967063  0.534274  0.434374\n",
            "9   0.959950  0.529027  0.432564\n",
            "10  0.954571  0.524718  0.431493\n",
            "11  0.952333  0.522823  0.431182\n",
            "12  0.950583  0.522062  0.430208\n",
            "13  0.949781  0.521426  0.430003\n",
            "14  0.945535  0.518783  0.428385\n",
            "15  0.943919  0.518046  0.427534\n",
            "16  0.941372  0.516401  0.426631\n",
            "17  0.940282  0.515968  0.425977\n",
            "18  0.939713  0.515677  0.425689\n",
            "19  0.938592  0.515127  0.425100\n",
            "20  0.937569  0.514504  0.424715\n",
            "21  0.936334  0.514048  0.423935\n",
            "---------------------------------------------------------------------------------------------------------\n",
            "채은성\n"
          ]
        },
        {
          "output_type": "stream",
          "name": "stderr",
          "text": [
            "/usr/local/lib/python3.7/dist-packages/statsmodels/tsa/base/tsa_model.py:219: ValueWarning: A date index has been provided, but it has no associated frequency information and so will be ignored when e.g. forecasting.\n",
            "  ' ignored when e.g. forecasting.', ValueWarning)\n",
            "\r5it [00:02,  2.15it/s]"
          ]
        },
        {
          "output_type": "stream",
          "name": "stdout",
          "text": [
            " \n",
            "         OPS        장타        출루\n",
            "1   0.869130  0.503315  0.366430\n",
            "2   0.871311  0.502988  0.368501\n",
            "3   0.862447  0.496738  0.365756\n",
            "4   0.879994  0.510115  0.370359\n",
            "5   0.882674  0.513943  0.368959\n",
            "6   0.885094  0.513753  0.371676\n",
            "7   0.887097  0.514650  0.372739\n",
            "8   0.888668  0.515113  0.373862\n",
            "9   0.881591  0.510155  0.371657\n",
            "10  0.881560  0.510713  0.371091\n",
            "11  0.881593  0.511496  0.370351\n",
            "12  0.883473  0.512258  0.371492\n",
            "13  0.885760  0.513468  0.372565\n",
            "14  0.885521  0.513666  0.372145\n",
            "15  0.885694  0.514114  0.371851\n",
            "16  0.884080  0.512800  0.371518\n",
            "17  0.884377  0.512781  0.371859\n",
            "18  0.885414  0.513569  0.372139\n",
            "19  0.886469  0.514486  0.372275\n",
            "20  0.887037  0.514991  0.372336\n",
            "21  0.887243  0.515138  0.372390\n",
            "---------------------------------------------------------------------------------------------------------\n",
            "양의지\n"
          ]
        },
        {
          "output_type": "stream",
          "name": "stderr",
          "text": [
            "/usr/local/lib/python3.7/dist-packages/statsmodels/tsa/base/tsa_model.py:219: ValueWarning: A date index has been provided, but it has no associated frequency information and so will be ignored when e.g. forecasting.\n",
            "  ' ignored when e.g. forecasting.', ValueWarning)\n",
            "\r6it [00:03,  2.12it/s]"
          ]
        },
        {
          "output_type": "stream",
          "name": "stdout",
          "text": [
            " \n",
            "         OPS        장타        출루\n",
            "1   1.089442  0.649176  0.418185\n",
            "2   1.101340  0.650097  0.429041\n",
            "3   1.102687  0.651200  0.429058\n",
            "4   1.091595  0.639737  0.429420\n",
            "5   1.091535  0.642361  0.426761\n",
            "6   1.093126  0.643955  0.426752\n",
            "7   1.095322  0.646020  0.426876\n",
            "8   1.090846  0.641766  0.426721\n",
            "9   1.087530  0.638223  0.426863\n",
            "10  1.085721  0.638552  0.424722\n",
            "11  1.085582  0.638440  0.424691\n",
            "12  1.086680  0.639520  0.424735\n",
            "13  1.087193  0.639391  0.425354\n",
            "14  1.087547  0.639780  0.425332\n",
            "15  1.087577  0.639750  0.425371\n",
            "16  1.087433  0.639999  0.424987\n",
            "17  1.087917  0.640458  0.425012\n",
            "18  1.088159  0.640655  0.425063\n",
            "19  1.088483  0.640670  0.425370\n",
            "20  1.088593  0.640741  0.425400\n",
            "21  1.088670  0.640827  0.425390\n",
            "---------------------------------------------------------------------------------------------------------\n",
            "박건우\n"
          ]
        },
        {
          "output_type": "stream",
          "name": "stderr",
          "text": [
            "/usr/local/lib/python3.7/dist-packages/statsmodels/tsa/base/tsa_model.py:219: ValueWarning: A date index has been provided, but it has no associated frequency information and so will be ignored when e.g. forecasting.\n",
            "  ' ignored when e.g. forecasting.', ValueWarning)\n",
            "\r7it [00:03,  2.22it/s]"
          ]
        },
        {
          "output_type": "stream",
          "name": "stdout",
          "text": [
            " \n",
            "         OPS        장타        출루\n",
            "1   0.833298  0.430696  0.397953\n",
            "2   0.816837  0.419116  0.393009\n",
            "3   0.829403  0.433311  0.391444\n",
            "4   0.825385  0.427041  0.393759\n",
            "5   0.822900  0.435323  0.383052\n",
            "6   0.835909  0.440228  0.390861\n",
            "7   0.829451  0.442559  0.382162\n",
            "8   0.834807  0.445436  0.384712\n",
            "9   0.835702  0.446633  0.384271\n",
            "10  0.837239  0.445319  0.387191\n",
            "11  0.830260  0.443511  0.381953\n",
            "12  0.836830  0.446256  0.385811\n",
            "13  0.833888  0.446651  0.382456\n",
            "14  0.836605  0.450278  0.381551\n",
            "15  0.838195  0.452412  0.380985\n",
            "16  0.840245  0.454555  0.380905\n",
            "17  0.839259  0.454800  0.379631\n",
            "18  0.842817  0.457543  0.380473\n",
            "19  0.842516  0.457888  0.379799\n",
            "20  0.842844  0.458426  0.379606\n",
            "21  0.843434  0.459150  0.379451\n",
            "---------------------------------------------------------------------------------------------------------\n",
            "김현수\n"
          ]
        },
        {
          "output_type": "stream",
          "name": "stderr",
          "text": [
            "/usr/local/lib/python3.7/dist-packages/statsmodels/tsa/base/tsa_model.py:219: ValueWarning: A date index has been provided, but it has no associated frequency information and so will be ignored when e.g. forecasting.\n",
            "  ' ignored when e.g. forecasting.', ValueWarning)\n",
            "\r8it [00:04,  2.01it/s]"
          ]
        },
        {
          "output_type": "stream",
          "name": "stdout",
          "text": [
            " \n",
            "         OPS        장타        출루\n",
            "1   0.859960  0.481331  0.381039\n",
            "2   0.866617  0.486839  0.382086\n",
            "3   0.872333  0.491529  0.383382\n",
            "4   0.878712  0.496324  0.384692\n",
            "5   0.889758  0.504933  0.387200\n",
            "6   0.895105  0.508382  0.389050\n",
            "7   0.900931  0.512567  0.390710\n",
            "8   0.902836  0.513276  0.391930\n",
            "9   0.904687  0.514473  0.392582\n",
            "10  0.907460  0.516832  0.392995\n",
            "11  0.910180  0.519231  0.393315\n",
            "12  0.911537  0.520266  0.393647\n",
            "13  0.913277  0.521471  0.394179\n",
            "14  0.915998  0.523489  0.394907\n",
            "15  0.917721  0.524860  0.395262\n",
            "16  0.919904  0.526631  0.395670\n",
            "17  0.922130  0.528464  0.396072\n",
            "18  0.923770  0.529804  0.396371\n",
            "19  0.925601  0.531274  0.396742\n",
            "20  0.927143  0.532516  0.397050\n",
            "21  0.928526  0.533658  0.397293\n",
            "---------------------------------------------------------------------------------------------------------\n",
            "김재환\n"
          ]
        },
        {
          "output_type": "stream",
          "name": "stderr",
          "text": [
            "/usr/local/lib/python3.7/dist-packages/statsmodels/tsa/base/tsa_model.py:219: ValueWarning: A date index has been provided, but it has no associated frequency information and so will be ignored when e.g. forecasting.\n",
            "  ' ignored when e.g. forecasting.', ValueWarning)\n",
            "\r9it [00:04,  1.90it/s]"
          ]
        },
        {
          "output_type": "stream",
          "name": "stdout",
          "text": [
            " \n",
            "         OPS        장타        출루\n",
            "1   0.905211  0.501515  0.391316\n",
            "2   0.895101  0.500343  0.383164\n",
            "3   0.902795  0.504796  0.385774\n",
            "4   0.883563  0.488764  0.382651\n",
            "5   0.880479  0.492605  0.375940\n",
            "6   0.889557  0.497262  0.380344\n",
            "7   0.875252  0.485298  0.378122\n",
            "8   0.867440  0.481112  0.374242\n",
            "9   0.873305  0.487663  0.373586\n",
            "10  0.875659  0.489633  0.374166\n",
            "11  0.875439  0.489182  0.374323\n",
            "12  0.874982  0.488604  0.374431\n",
            "13  0.878168  0.490971  0.375221\n",
            "14  0.879858  0.492046  0.375886\n",
            "15  0.881523  0.493470  0.376139\n",
            "16  0.882827  0.494410  0.376467\n",
            "17  0.884943  0.495996  0.376998\n",
            "18  0.885813  0.496483  0.377398\n",
            "19  0.887317  0.497571  0.377815\n",
            "20  0.888283  0.498204  0.378144\n",
            "21  0.889632  0.499332  0.378354\n",
            "---------------------------------------------------------------------------------------------------------\n",
            "전준우\n"
          ]
        },
        {
          "output_type": "stream",
          "name": "stderr",
          "text": [
            "/usr/local/lib/python3.7/dist-packages/statsmodels/tsa/base/tsa_model.py:219: ValueWarning: A date index has been provided, but it has no associated frequency information and so will be ignored when e.g. forecasting.\n",
            "  ' ignored when e.g. forecasting.', ValueWarning)\n",
            "10it [00:05,  1.92it/s]"
          ]
        },
        {
          "output_type": "stream",
          "name": "stdout",
          "text": [
            " \n",
            "         OPS        장타        출루\n",
            "1   0.811906  0.425550  0.382081\n",
            "2   0.824210  0.434669  0.385135\n",
            "3   0.833445  0.435494  0.393766\n",
            "4   0.841132  0.443474  0.393851\n",
            "5   0.823953  0.432906  0.387153\n",
            "6   0.815921  0.431282  0.380670\n",
            "7   0.823966  0.436993  0.382747\n",
            "8   0.832794  0.442773  0.385889\n",
            "9   0.838349  0.446916  0.387540\n",
            "10  0.836469  0.446082  0.386364\n",
            "11  0.837535  0.448464  0.385062\n",
            "12  0.840635  0.450269  0.386240\n",
            "13  0.843843  0.452845  0.386957\n",
            "14  0.845272  0.454289  0.386974\n",
            "15  0.845072  0.454811  0.386218\n",
            "16  0.846913  0.456653  0.386198\n",
            "17  0.848711  0.458186  0.386455\n",
            "18  0.850878  0.460122  0.386719\n",
            "19  0.852072  0.461367  0.386667\n",
            "20  0.853103  0.462700  0.386359\n",
            "21  0.854300  0.463980  0.386261\n"
          ]
        },
        {
          "output_type": "stream",
          "name": "stderr",
          "text": [
            "\n"
          ]
        }
      ]
    },
    {
      "cell_type": "code",
      "metadata": {
        "colab": {
          "base_uri": "https://localhost:8080/"
        },
        "id": "zVC3M_hvLvYh",
        "outputId": "e50fbf23-bd1f-4f02-97b9-43e61cf23565"
      },
      "source": [
        "final_forecast"
      ],
      "execution_count": null,
      "outputs": [
        {
          "output_type": "execute_result",
          "data": {
            "text/plain": [
              "[OPS    1.001648\n",
              " 장타     0.558688\n",
              " 출루     0.442962\n",
              " dtype: float64, OPS    0.811149\n",
              " 장타     0.455432\n",
              " 출루     0.349675\n",
              " dtype: float64, OPS    0.977100\n",
              " 장타     0.580557\n",
              " 출루     0.408333\n",
              " dtype: float64, OPS    0.955882\n",
              " 장타     0.524956\n",
              " 출루     0.432620\n",
              " dtype: float64, OPS    0.882201\n",
              " 장타     0.511440\n",
              " 출루     0.371045\n",
              " dtype: float64, OPS    1.090142\n",
              " 장타     0.641968\n",
              " 출루     0.425767\n",
              " dtype: float64, OPS    0.834658\n",
              " 장타     0.445102\n",
              " 출루     0.384811\n",
              " dtype: float64, OPS    0.904485\n",
              " 장타     0.515150\n",
              " 출루     0.391723\n",
              " dtype: float64, OPS    0.883674\n",
              " 장타     0.493584\n",
              " 출루     0.378118\n",
              " dtype: float64, OPS    0.838118\n",
              " 장타     0.447611\n",
              " 출루     0.386443\n",
              " dtype: float64]"
            ]
          },
          "metadata": {},
          "execution_count": 16
        }
      ]
    },
    {
      "cell_type": "code",
      "metadata": {
        "colab": {
          "base_uri": "https://localhost:8080/",
          "height": 363
        },
        "id": "1Bxo9SKCXSmA",
        "outputId": "5fd17b33-0a1a-4dac-ec7e-3a0306663da7"
      },
      "source": [
        "pd.DataFrame(final_forecast, index = 선수 ) #최종예측"
      ],
      "execution_count": null,
      "outputs": [
        {
          "output_type": "execute_result",
          "data": {
            "text/html": [
              "<div>\n",
              "<style scoped>\n",
              "    .dataframe tbody tr th:only-of-type {\n",
              "        vertical-align: middle;\n",
              "    }\n",
              "\n",
              "    .dataframe tbody tr th {\n",
              "        vertical-align: top;\n",
              "    }\n",
              "\n",
              "    .dataframe thead th {\n",
              "        text-align: right;\n",
              "    }\n",
              "</style>\n",
              "<table border=\"1\" class=\"dataframe\">\n",
              "  <thead>\n",
              "    <tr style=\"text-align: right;\">\n",
              "      <th></th>\n",
              "      <th>OPS</th>\n",
              "      <th>장타</th>\n",
              "      <th>출루</th>\n",
              "    </tr>\n",
              "  </thead>\n",
              "  <tbody>\n",
              "    <tr>\n",
              "      <th>강백호</th>\n",
              "      <td>1.001648</td>\n",
              "      <td>0.558688</td>\n",
              "      <td>0.442962</td>\n",
              "    </tr>\n",
              "    <tr>\n",
              "      <th>로맥</th>\n",
              "      <td>0.811149</td>\n",
              "      <td>0.455432</td>\n",
              "      <td>0.349675</td>\n",
              "    </tr>\n",
              "    <tr>\n",
              "      <th>최정</th>\n",
              "      <td>0.977100</td>\n",
              "      <td>0.580557</td>\n",
              "      <td>0.408333</td>\n",
              "    </tr>\n",
              "    <tr>\n",
              "      <th>이정후</th>\n",
              "      <td>0.955882</td>\n",
              "      <td>0.524956</td>\n",
              "      <td>0.432620</td>\n",
              "    </tr>\n",
              "    <tr>\n",
              "      <th>채은성</th>\n",
              "      <td>0.882201</td>\n",
              "      <td>0.511440</td>\n",
              "      <td>0.371045</td>\n",
              "    </tr>\n",
              "    <tr>\n",
              "      <th>양의지</th>\n",
              "      <td>1.090142</td>\n",
              "      <td>0.641968</td>\n",
              "      <td>0.425767</td>\n",
              "    </tr>\n",
              "    <tr>\n",
              "      <th>박건우</th>\n",
              "      <td>0.834658</td>\n",
              "      <td>0.445102</td>\n",
              "      <td>0.384811</td>\n",
              "    </tr>\n",
              "    <tr>\n",
              "      <th>김현수</th>\n",
              "      <td>0.904485</td>\n",
              "      <td>0.515150</td>\n",
              "      <td>0.391723</td>\n",
              "    </tr>\n",
              "    <tr>\n",
              "      <th>김재환</th>\n",
              "      <td>0.883674</td>\n",
              "      <td>0.493584</td>\n",
              "      <td>0.378118</td>\n",
              "    </tr>\n",
              "    <tr>\n",
              "      <th>전준우</th>\n",
              "      <td>0.838118</td>\n",
              "      <td>0.447611</td>\n",
              "      <td>0.386443</td>\n",
              "    </tr>\n",
              "  </tbody>\n",
              "</table>\n",
              "</div>"
            ],
            "text/plain": [
              "          OPS        장타        출루\n",
              "강백호  1.001648  0.558688  0.442962\n",
              "로맥   0.811149  0.455432  0.349675\n",
              "최정   0.977100  0.580557  0.408333\n",
              "이정후  0.955882  0.524956  0.432620\n",
              "채은성  0.882201  0.511440  0.371045\n",
              "양의지  1.090142  0.641968  0.425767\n",
              "박건우  0.834658  0.445102  0.384811\n",
              "김현수  0.904485  0.515150  0.391723\n",
              "김재환  0.883674  0.493584  0.378118\n",
              "전준우  0.838118  0.447611  0.386443"
            ]
          },
          "metadata": {},
          "execution_count": 17
        }
      ]
    }
  ]
}