{
  "nbformat": 4,
  "nbformat_minor": 0,
  "metadata": {
    "colab": {
      "name": "MARCEL",
      "provenance": [],
      "collapsed_sections": [],
      "include_colab_link": true
    },
    "kernelspec": {
      "name": "python3",
      "display_name": "Python 3"
    },
    "language_info": {
      "name": "python"
    }
  },
  "cells": [
    {
      "cell_type": "markdown",
      "metadata": {
        "id": "view-in-github",
        "colab_type": "text"
      },
      "source": [
        "<a href=\"https://colab.research.google.com/github/crossrobot/2021-Bigcontest-SportTech-Sector-YonseiDSL-/blob/main/MARCEL.ipynb\" target=\"_parent\"><img src=\"https://colab.research.google.com/assets/colab-badge.svg\" alt=\"Open In Colab\"/></a>"
      ]
    },
    {
      "cell_type": "markdown",
      "metadata": {
        "id": "-aUSvt2huQ5M"
      },
      "source": [
        "\n",
        "\n",
        "# 데이터 불러오기\n",
        "\n"
      ]
    },
    {
      "cell_type": "code",
      "metadata": {
        "id": "CgYJLCK0wymP"
      },
      "source": [
        "import pandas as pd\n",
        "import os\n",
        "import seaborn as sns\n",
        "import numpy as np\n",
        "%matplotlib inline  \n",
        "\n",
        "import matplotlib as mpl \n",
        "import matplotlib.pyplot as plt \n",
        "import matplotlib.font_manager as fm \n",
        "\n",
        "from sklearn.metrics import mean_squared_error"
      ],
      "execution_count": 2,
      "outputs": []
    },
    {
      "cell_type": "code",
      "metadata": {
        "id": "uBFxCjF_mXTE"
      },
      "source": [
        "import warnings\n",
        "warnings.filterwarnings(action = 'ignore')"
      ],
      "execution_count": 3,
      "outputs": []
    },
    {
      "cell_type": "code",
      "metadata": {
        "colab": {
          "base_uri": "https://localhost:8080/"
        },
        "id": "efMD-U0PWOq_",
        "outputId": "7d0a1d67-729c-42dd-bdb3-35156f4d56a4"
      },
      "source": [
        "from google.colab import drive\n",
        "drive.mount('/content/drive')"
      ],
      "execution_count": 1,
      "outputs": [
        {
          "output_type": "stream",
          "name": "stdout",
          "text": [
            "Mounted at /content/drive\n"
          ]
        }
      ]
    },
    {
      "cell_type": "code",
      "metadata": {
        "colab": {
          "base_uri": "https://localhost:8080/"
        },
        "id": "hKexP-1HxBt5",
        "outputId": "85065948-e5eb-430e-919d-de31a74602e2"
      },
      "source": [
        "# 제공데이터의 폴더경로 \n",
        "path =  '/content/drive/Shareddrives/Big Contest - BaseBall/빅콘테스트-야구/01_제공데이터'\n",
        "\n",
        "%cd path \n",
        "\n",
        "# 폴더 내의 파일 목록 (.csv)\n",
        "file_list = os.listdir(path) # 현재 디렉토리에 있는 파일 리스트들 \n",
        "file_list_py = [file for file in file_list if file.endswith('.csv')]\n",
        "file_list_py"
      ],
      "execution_count": 4,
      "outputs": [
        {
          "output_type": "stream",
          "name": "stdout",
          "text": [
            "[Errno 2] No such file or directory: 'path'\n",
            "/content\n"
          ]
        },
        {
          "output_type": "execute_result",
          "data": {
            "text/plain": [
              "['2021 빅콘테스트_데이터분석분야_챔피언리그_스포츠테크_타자 기본_2018.csv',\n",
              " '2021 빅콘테스트_데이터분석분야_챔피언리그_스포츠테크_타자 기본_2019.csv',\n",
              " '2021 빅콘테스트_데이터분석분야_챔피언리그_스포츠테크_타자 기본_2020.csv',\n",
              " '2021 빅콘테스트_데이터분석분야_챔피언리그_스포츠테크_타자 기본_2021.csv',\n",
              " '2021 빅콘테스트_데이터분석분야_챔피언리그_스포츠테크_HTS_2018.csv',\n",
              " '2021 빅콘테스트_데이터분석분야_챔피언리그_스포츠테크_HTS_2019.csv',\n",
              " '2021 빅콘테스트_데이터분석분야_챔피언리그_스포츠테크_HTS_2020.csv',\n",
              " '2021 빅콘테스트_데이터분석분야_챔피언리그_스포츠테크_HTS_2021.csv',\n",
              " '2021 빅콘테스트_데이터분석분야_챔피언리그_스포츠테크_경기일정_2021.csv',\n",
              " '2021 빅콘테스트_데이터분석분야_챔피언리그_스포츠테크_팀.csv',\n",
              " '2021 빅콘테스트_데이터분석분야_챔피언리그_스포츠테크_선수_2018.csv',\n",
              " '2021 빅콘테스트_데이터분석분야_챔피언리그_스포츠테크_선수_2019.csv',\n",
              " '2021 빅콘테스트_데이터분석분야_챔피언리그_스포츠테크_선수_2020.csv',\n",
              " '2021 빅콘테스트_데이터분석분야_챔피언리그_스포츠테크_선수_2021.csv']"
            ]
          },
          "metadata": {},
          "execution_count": 4
        }
      ]
    },
    {
      "cell_type": "code",
      "metadata": {
        "id": "2P0ahJNAxCSQ"
      },
      "source": [
        "HTS_2018=pd.read_csv(os.path.join(path , '2021 빅콘테스트_데이터분석분야_챔피언리그_스포츠테크_HTS_2018.csv'), encoding = 'CP949')\n",
        "HTS_2019=pd.read_csv(os.path.join(path , '2021 빅콘테스트_데이터분석분야_챔피언리그_스포츠테크_HTS_2019.csv'), encoding = 'CP949')\n",
        "HTS_2020=pd.read_csv(os.path.join(path , '2021 빅콘테스트_데이터분석분야_챔피언리그_스포츠테크_HTS_2020.csv'), encoding = 'CP949')\n",
        "HTS_2021=pd.read_csv(os.path.join(path , '2021 빅콘테스트_데이터분석분야_챔피언리그_스포츠테크_HTS_2021.csv'), encoding = 'CP949')\n",
        "경기일정_2021=pd.read_csv(os.path.join(path , '2021 빅콘테스트_데이터분석분야_챔피언리그_스포츠테크_경기일정_2021.csv'), encoding = 'CP949')\n",
        "선수_2018=pd.read_csv(os.path.join(path , '2021 빅콘테스트_데이터분석분야_챔피언리그_스포츠테크_선수_2018.csv'), encoding = 'CP949')\n",
        "선수_2019=pd.read_csv(os.path.join(path , '2021 빅콘테스트_데이터분석분야_챔피언리그_스포츠테크_선수_2019.csv'), encoding = 'CP949')\n",
        "선수_2020=pd.read_csv(os.path.join(path , '2021 빅콘테스트_데이터분석분야_챔피언리그_스포츠테크_선수_2020.csv'), encoding = 'CP949')\n",
        "선수_2021=pd.read_csv(os.path.join(path , '2021 빅콘테스트_데이터분석분야_챔피언리그_스포츠테크_선수_2021.csv'), encoding = 'CP949')\n",
        "타자기본_2018=pd.read_csv(os.path.join(path , '2021 빅콘테스트_데이터분석분야_챔피언리그_스포츠테크_타자 기본_2018.csv'), encoding = 'CP949')\n",
        "타자기본_2019=pd.read_csv(os.path.join(path , '2021 빅콘테스트_데이터분석분야_챔피언리그_스포츠테크_타자 기본_2019.csv'), encoding = 'CP949')\n",
        "타자기본_2020=pd.read_csv(os.path.join(path , '2021 빅콘테스트_데이터분석분야_챔피언리그_스포츠테크_타자 기본_2020.csv'), encoding = 'CP949')\n",
        "타자기본_2021=pd.read_csv(os.path.join(path , '2021 빅콘테스트_데이터분석분야_챔피언리그_스포츠테크_타자 기본_2021.csv'), encoding = 'CP949')\n",
        "팀=pd.read_csv(os.path.join(path , '2021 빅콘테스트_데이터분석분야_챔피언리그_스포츠테크_팀.csv'), encoding = 'CP949')"
      ],
      "execution_count": 5,
      "outputs": []
    },
    {
      "cell_type": "code",
      "metadata": {
        "id": "r-JdGOdDxgNH"
      },
      "source": [
        "HTS_all = pd.concat([HTS_2018, HTS_2019, HTS_2020, HTS_2021])\n",
        "타자기본_all = pd.concat([타자기본_2018, 타자기본_2019, 타자기본_2020, 타자기본_2021 ])\n",
        "선수_all = pd.concat([선수_2018, 선수_2019, 선수_2020, 선수_2021])"
      ],
      "execution_count": 6,
      "outputs": []
    },
    {
      "cell_type": "code",
      "metadata": {
        "colab": {
          "base_uri": "https://localhost:8080/"
        },
        "id": "Zk8wZ7L6aOsV",
        "outputId": "0faa9477-c2dc-4149-da9a-8647d8606f88"
      },
      "source": [
        "# 각자 작업 환경에 맞는 경로를 지정해주세요. Google Colab과 Jupyter환경에서 경로가 다를 수 있습니다.\n",
        "path = '/content/drive/Shareddrives/Big Contest - BaseBall/빅콘테스트-야구'\n",
        "ratings_df = pd.read_csv(os.path.join(path, '타자기본_크롤링추가_2000.csv'), encoding='utf-8')\n",
        "\n",
        "print(ratings_df.shape)\n",
        "print(ratings_df.head())"
      ],
      "execution_count": 7,
      "outputs": [
        {
          "output_type": "stream",
          "name": "stdout",
          "text": [
            "(5800, 67)\n",
            "   GYEAR  PCODE  GAMENUM   PA  ...  HP_LAG3  GD_LAG3  OBP_LAG3  OPS_LAG3\n",
            "0   2018  60100       70  169  ...      0.0      0.0     0.382     0.834\n",
            "1   2018  60184        6   10  ...      NaN      NaN       NaN       NaN\n",
            "2   2018  60288        1    1  ...      0.0      1.0     0.333     1.667\n",
            "3   2018  60343       83  174  ...      1.0      0.0       NaN       NaN\n",
            "4   2018  60456        4    8  ...      1.0      2.0     0.359     0.670\n",
            "\n",
            "[5 rows x 67 columns]\n"
          ]
        }
      ]
    },
    {
      "cell_type": "code",
      "metadata": {
        "colab": {
          "base_uri": "https://localhost:8080/",
          "height": 161
        },
        "id": "2fKUXaweab4l",
        "outputId": "9d6def51-479f-4bc2-9e7a-12d951228c46"
      },
      "source": [
        "ratings_df.head(3)"
      ],
      "execution_count": 8,
      "outputs": [
        {
          "output_type": "execute_result",
          "data": {
            "text/html": [
              "<div>\n",
              "<style scoped>\n",
              "    .dataframe tbody tr th:only-of-type {\n",
              "        vertical-align: middle;\n",
              "    }\n",
              "\n",
              "    .dataframe tbody tr th {\n",
              "        vertical-align: top;\n",
              "    }\n",
              "\n",
              "    .dataframe thead th {\n",
              "        text-align: right;\n",
              "    }\n",
              "</style>\n",
              "<table border=\"1\" class=\"dataframe\">\n",
              "  <thead>\n",
              "    <tr style=\"text-align: right;\">\n",
              "      <th></th>\n",
              "      <th>GYEAR</th>\n",
              "      <th>PCODE</th>\n",
              "      <th>GAMENUM</th>\n",
              "      <th>PA</th>\n",
              "      <th>AB</th>\n",
              "      <th>BA</th>\n",
              "      <th>HIT</th>\n",
              "      <th>HR</th>\n",
              "      <th>TOTB</th>\n",
              "      <th>SLG</th>\n",
              "      <th>SF</th>\n",
              "      <th>BB</th>\n",
              "      <th>KK</th>\n",
              "      <th>IB</th>\n",
              "      <th>HP</th>\n",
              "      <th>GD</th>\n",
              "      <th>POSITION</th>\n",
              "      <th>OBP</th>\n",
              "      <th>OPS</th>\n",
              "      <th>GAMENUM_LAG1</th>\n",
              "      <th>PA_LAG1</th>\n",
              "      <th>AB_LAG1</th>\n",
              "      <th>BA_LAG1</th>\n",
              "      <th>HIT_LAG1</th>\n",
              "      <th>HR_LAG1</th>\n",
              "      <th>TOTB_LAG1</th>\n",
              "      <th>SLG_LAG1</th>\n",
              "      <th>SF_LAG1</th>\n",
              "      <th>BB_LAG1</th>\n",
              "      <th>KK_LAG1</th>\n",
              "      <th>IB_LAG1</th>\n",
              "      <th>HP_LAG1</th>\n",
              "      <th>GD_LAG1</th>\n",
              "      <th>OBP_LAG1</th>\n",
              "      <th>OPS_LAG1</th>\n",
              "      <th>GAMENUM_LAG2</th>\n",
              "      <th>PA_LAG2</th>\n",
              "      <th>AB_LAG2</th>\n",
              "      <th>BA_LAG2</th>\n",
              "      <th>HIT_LAG2</th>\n",
              "      <th>HR_LAG2</th>\n",
              "      <th>TOTB_LAG2</th>\n",
              "      <th>SLG_LAG2</th>\n",
              "      <th>SF_LAG2</th>\n",
              "      <th>BB_LAG2</th>\n",
              "      <th>KK_LAG2</th>\n",
              "      <th>IB_LAG2</th>\n",
              "      <th>HP_LAG2</th>\n",
              "      <th>GD_LAG2</th>\n",
              "      <th>OBP_LAG2</th>\n",
              "      <th>OPS_LAG2</th>\n",
              "      <th>GAMENUM_LAG3</th>\n",
              "      <th>PA_LAG3</th>\n",
              "      <th>AB_LAG3</th>\n",
              "      <th>BA_LAG3</th>\n",
              "      <th>HIT_LAG3</th>\n",
              "      <th>HR_LAG3</th>\n",
              "      <th>TOTB_LAG3</th>\n",
              "      <th>SLG_LAG3</th>\n",
              "      <th>SF_LAG3</th>\n",
              "      <th>BB_LAG3</th>\n",
              "      <th>KK_LAG3</th>\n",
              "      <th>IB_LAG3</th>\n",
              "      <th>HP_LAG3</th>\n",
              "      <th>GD_LAG3</th>\n",
              "      <th>OBP_LAG3</th>\n",
              "      <th>OPS_LAG3</th>\n",
              "    </tr>\n",
              "  </thead>\n",
              "  <tbody>\n",
              "    <tr>\n",
              "      <th>0</th>\n",
              "      <td>2018</td>\n",
              "      <td>60100</td>\n",
              "      <td>70</td>\n",
              "      <td>169</td>\n",
              "      <td>152</td>\n",
              "      <td>0.243</td>\n",
              "      <td>37</td>\n",
              "      <td>3</td>\n",
              "      <td>63</td>\n",
              "      <td>0.414</td>\n",
              "      <td>1</td>\n",
              "      <td>12</td>\n",
              "      <td>36</td>\n",
              "      <td>0</td>\n",
              "      <td>4</td>\n",
              "      <td>5</td>\n",
              "      <td>외</td>\n",
              "      <td>0.313609</td>\n",
              "      <td>0.727609</td>\n",
              "      <td>52.0</td>\n",
              "      <td>122.0</td>\n",
              "      <td>101.0</td>\n",
              "      <td>0.327</td>\n",
              "      <td>33.0</td>\n",
              "      <td>4.0</td>\n",
              "      <td>54.0</td>\n",
              "      <td>0.535</td>\n",
              "      <td>2.0</td>\n",
              "      <td>12.0</td>\n",
              "      <td>18.0</td>\n",
              "      <td>0.0</td>\n",
              "      <td>4.0</td>\n",
              "      <td>4.0</td>\n",
              "      <td>0.412</td>\n",
              "      <td>0.946</td>\n",
              "      <td>10.0</td>\n",
              "      <td>21.0</td>\n",
              "      <td>18.0</td>\n",
              "      <td>0.333</td>\n",
              "      <td>6.0</td>\n",
              "      <td>1.0</td>\n",
              "      <td>11.0</td>\n",
              "      <td>0.611</td>\n",
              "      <td>0.0</td>\n",
              "      <td>2.0</td>\n",
              "      <td>6.0</td>\n",
              "      <td>0.0</td>\n",
              "      <td>1.0</td>\n",
              "      <td>1.0</td>\n",
              "      <td>0.429</td>\n",
              "      <td>1.04</td>\n",
              "      <td>25.0</td>\n",
              "      <td>36.0</td>\n",
              "      <td>31.0</td>\n",
              "      <td>0.323</td>\n",
              "      <td>10.0</td>\n",
              "      <td>0.0</td>\n",
              "      <td>14.0</td>\n",
              "      <td>0.452</td>\n",
              "      <td>0.0</td>\n",
              "      <td>3.0</td>\n",
              "      <td>3.0</td>\n",
              "      <td>0.0</td>\n",
              "      <td>0.0</td>\n",
              "      <td>0.0</td>\n",
              "      <td>0.382</td>\n",
              "      <td>0.834</td>\n",
              "    </tr>\n",
              "    <tr>\n",
              "      <th>1</th>\n",
              "      <td>2018</td>\n",
              "      <td>60184</td>\n",
              "      <td>6</td>\n",
              "      <td>10</td>\n",
              "      <td>10</td>\n",
              "      <td>0.200</td>\n",
              "      <td>2</td>\n",
              "      <td>0</td>\n",
              "      <td>3</td>\n",
              "      <td>0.300</td>\n",
              "      <td>0</td>\n",
              "      <td>0</td>\n",
              "      <td>3</td>\n",
              "      <td>0</td>\n",
              "      <td>0</td>\n",
              "      <td>0</td>\n",
              "      <td>포</td>\n",
              "      <td>0.200000</td>\n",
              "      <td>0.500000</td>\n",
              "      <td>NaN</td>\n",
              "      <td>NaN</td>\n",
              "      <td>NaN</td>\n",
              "      <td>NaN</td>\n",
              "      <td>NaN</td>\n",
              "      <td>NaN</td>\n",
              "      <td>NaN</td>\n",
              "      <td>NaN</td>\n",
              "      <td>NaN</td>\n",
              "      <td>NaN</td>\n",
              "      <td>NaN</td>\n",
              "      <td>NaN</td>\n",
              "      <td>NaN</td>\n",
              "      <td>NaN</td>\n",
              "      <td>NaN</td>\n",
              "      <td>NaN</td>\n",
              "      <td>NaN</td>\n",
              "      <td>NaN</td>\n",
              "      <td>NaN</td>\n",
              "      <td>NaN</td>\n",
              "      <td>NaN</td>\n",
              "      <td>NaN</td>\n",
              "      <td>NaN</td>\n",
              "      <td>NaN</td>\n",
              "      <td>NaN</td>\n",
              "      <td>NaN</td>\n",
              "      <td>NaN</td>\n",
              "      <td>NaN</td>\n",
              "      <td>NaN</td>\n",
              "      <td>NaN</td>\n",
              "      <td>NaN</td>\n",
              "      <td>NaN</td>\n",
              "      <td>NaN</td>\n",
              "      <td>NaN</td>\n",
              "      <td>NaN</td>\n",
              "      <td>NaN</td>\n",
              "      <td>NaN</td>\n",
              "      <td>NaN</td>\n",
              "      <td>NaN</td>\n",
              "      <td>NaN</td>\n",
              "      <td>NaN</td>\n",
              "      <td>NaN</td>\n",
              "      <td>NaN</td>\n",
              "      <td>NaN</td>\n",
              "      <td>NaN</td>\n",
              "      <td>NaN</td>\n",
              "      <td>NaN</td>\n",
              "      <td>NaN</td>\n",
              "    </tr>\n",
              "    <tr>\n",
              "      <th>2</th>\n",
              "      <td>2018</td>\n",
              "      <td>60288</td>\n",
              "      <td>1</td>\n",
              "      <td>1</td>\n",
              "      <td>1</td>\n",
              "      <td>0.000</td>\n",
              "      <td>0</td>\n",
              "      <td>0</td>\n",
              "      <td>0</td>\n",
              "      <td>0.000</td>\n",
              "      <td>0</td>\n",
              "      <td>0</td>\n",
              "      <td>0</td>\n",
              "      <td>0</td>\n",
              "      <td>0</td>\n",
              "      <td>0</td>\n",
              "      <td>포</td>\n",
              "      <td>0.000000</td>\n",
              "      <td>0.000000</td>\n",
              "      <td>NaN</td>\n",
              "      <td>NaN</td>\n",
              "      <td>NaN</td>\n",
              "      <td>NaN</td>\n",
              "      <td>NaN</td>\n",
              "      <td>NaN</td>\n",
              "      <td>NaN</td>\n",
              "      <td>NaN</td>\n",
              "      <td>NaN</td>\n",
              "      <td>NaN</td>\n",
              "      <td>NaN</td>\n",
              "      <td>NaN</td>\n",
              "      <td>NaN</td>\n",
              "      <td>NaN</td>\n",
              "      <td>NaN</td>\n",
              "      <td>NaN</td>\n",
              "      <td>NaN</td>\n",
              "      <td>NaN</td>\n",
              "      <td>NaN</td>\n",
              "      <td>NaN</td>\n",
              "      <td>NaN</td>\n",
              "      <td>NaN</td>\n",
              "      <td>NaN</td>\n",
              "      <td>NaN</td>\n",
              "      <td>NaN</td>\n",
              "      <td>NaN</td>\n",
              "      <td>NaN</td>\n",
              "      <td>NaN</td>\n",
              "      <td>NaN</td>\n",
              "      <td>NaN</td>\n",
              "      <td>NaN</td>\n",
              "      <td>NaN</td>\n",
              "      <td>4.0</td>\n",
              "      <td>3.0</td>\n",
              "      <td>3.0</td>\n",
              "      <td>0.333</td>\n",
              "      <td>1.0</td>\n",
              "      <td>1.0</td>\n",
              "      <td>4.0</td>\n",
              "      <td>1.333</td>\n",
              "      <td>0.0</td>\n",
              "      <td>0.0</td>\n",
              "      <td>0.0</td>\n",
              "      <td>0.0</td>\n",
              "      <td>0.0</td>\n",
              "      <td>1.0</td>\n",
              "      <td>0.333</td>\n",
              "      <td>1.667</td>\n",
              "    </tr>\n",
              "  </tbody>\n",
              "</table>\n",
              "</div>"
            ],
            "text/plain": [
              "   GYEAR  PCODE  GAMENUM   PA  ...  HP_LAG3  GD_LAG3  OBP_LAG3  OPS_LAG3\n",
              "0   2018  60100       70  169  ...      0.0      0.0     0.382     0.834\n",
              "1   2018  60184        6   10  ...      NaN      NaN       NaN       NaN\n",
              "2   2018  60288        1    1  ...      0.0      1.0     0.333     1.667\n",
              "\n",
              "[3 rows x 67 columns]"
            ]
          },
          "metadata": {},
          "execution_count": 8
        }
      ]
    },
    {
      "cell_type": "code",
      "metadata": {
        "id": "JHsWrRERs7df"
      },
      "source": [
        "# 최종 예측 데이터\n",
        "final_data = pd.read_csv('/content/drive/Shareddrives/Big Contest - BaseBall/빅콘테스트-야구/Final_Data/final_data.csv')\n",
        "\n",
        "# 성능 확인용 데이터\n",
        "crawl_data = pd.read_csv('/content/drive/Shareddrives/Big Contest - BaseBall/빅콘테스트-야구/only_crawling_lag.csv')\n",
        "\n",
        "# null값 삭제 -> 정답을 알 수 없는 데이터이므로 제외\n",
        "crawl_data = crawl_data[~crawl_data['OPS'].isnull()]\n",
        "crawl_data = crawl_data[~crawl_data['SLG'].isnull()]\n",
        "crawl_data = crawl_data[~crawl_data['OBP'].isnull()]\n",
        "\n",
        "# 2021년은 시즌이 끝나지 않았으므로 2021년의 OPS를 정답이라고 말할 수 없음. 따라서 제외.\n",
        "crawl_data = crawl_data[crawl_data['GYEAR']!= 2021]"
      ],
      "execution_count": 9,
      "outputs": []
    },
    {
      "cell_type": "code",
      "metadata": {
        "colab": {
          "base_uri": "https://localhost:8080/"
        },
        "id": "5yw60FItlRJg",
        "outputId": "93ef07d8-040a-4d30-906a-2acb1bc880e5"
      },
      "source": [
        "len(crawl_data)"
      ],
      "execution_count": 10,
      "outputs": [
        {
          "output_type": "execute_result",
          "data": {
            "text/plain": [
              "4363"
            ]
          },
          "metadata": {},
          "execution_count": 10
        }
      ]
    },
    {
      "cell_type": "markdown",
      "metadata": {
        "id": "kWRHd-h8fYgD"
      },
      "source": [
        "# MARCEL "
      ]
    },
    {
      "cell_type": "markdown",
      "metadata": {
        "id": "dXbCBHInLciv"
      },
      "source": [
        "MARCEL 계산법\n",
        "1.  3년간의 성적에 최근 순으로 5:4:3의 가중치를 부여한 평균값을 구한다.\n",
        "2. 3년 간 PA 성적에 5:4:3의 가중치를 주어 합을 구한다.\n",
        "3. 2에서 구한 값을 이용해 신뢰도 계수를 구한다. r  = PA/(PA + 1200) \n",
        "4. 3년 간 리그 평균 성적을 구한다. \n",
        "5. 신뢰도 계수를 이용해 1과 4를 regression\n",
        "6. 나이에 따라 성적을 보정한다"
      ]
    },
    {
      "cell_type": "code",
      "metadata": {
        "id": "KSH6OR7Jmtkh"
      },
      "source": [
        "# crawl_data에 맞춘 marcel 예상치 \n",
        "def marcel_projection(pred, code, find_year, data = crawl_data): # 예측할 값, 선수 코드, 예측할 년도 \n",
        "  find = data[(data['PCODE'] == code)&(data['GYEAR']== find_year)] # 해당 선수만 필터링\n",
        "  age = find['AGE'].values[0] # 나이 찾기\n",
        "\n",
        "  # 1. 가중 평균 (1년전 : 5, 2년전 : 4, 3년전 : 3)\n",
        "  player_mean = find[f'{pred}_LAG1'] * 5 + find[f'{pred}_LAG2'] * 4 + find[f'{pred}_LAG3'] * 3  \n",
        "  player_mean = player_mean/12\n",
        "\n",
        "  # 2, 3. 타석에도 가중치 \n",
        "  sum_pa = find['PA_LAG1'] * 5 + find['PA_LAG2'] * 4 + find['PA_LAG1'] * 3\n",
        "  r = sum_pa / (sum_pa + 1200) \n",
        "\n",
        "  # 4. 리그 평균값 구하기 \n",
        "  lag1_mean = find[f'{pred}_seasonal_MEAN_LAG1']\n",
        "  lag2_mean = find[f'{pred}_seasonal_MEAN_LAG2']\n",
        "  lag3_mean = find[f'{pred}_seasonal_MEAN_LAG3']\n",
        "\n",
        "  # 4. 리그 평균값에 년 별로 가중치 부여 \n",
        "  reg_mean = (lag3_mean * 3 + lag2_mean * 4 + lag1_mean * 5)/12\n",
        "\n",
        "  # 5. 회귀\n",
        "  marcel = player_mean * r +  reg_mean * (1-r)\n",
        "\n",
        "  # 6. 나이에 따라 가중치\n",
        "  if age > 29:\n",
        "    aging = 1 + (29 - age) * 0.003\n",
        "  else:\n",
        "    aging = 1 + (age - 29) * 0.006\n",
        "\n",
        "  if marcel.isnull().any() == True:  # null값이면 그냥 원래 값 대입하기 -> rmse계산에서 0이 되어 영향이 사라짐 \n",
        "    return find[pred].values[0]\n",
        "  else:\n",
        "    return list(marcel * aging)[0]"
      ],
      "execution_count": 11,
      "outputs": []
    },
    {
      "cell_type": "code",
      "metadata": {
        "id": "p1yDHh4Pgnxt"
      },
      "source": [
        "# 전체 예측\n",
        "crawl_data['marcel_ops'] = crawl_data.apply(lambda x: marcel_projection('OPS', x['PCODE'], x['GYEAR']), axis = 1)\n",
        "crawl_data['marcel_slg'] = crawl_data.apply(lambda x:  marcel_projection('SLG', x['PCODE'], x['GYEAR']), axis = 1)\n",
        "crawl_data['marcel_obp'] = crawl_data.apply(lambda x:  marcel_projection('OBP', x['PCODE'], x['GYEAR']), axis = 1)"
      ],
      "execution_count": 12,
      "outputs": []
    },
    {
      "cell_type": "code",
      "metadata": {
        "colab": {
          "base_uri": "https://localhost:8080/"
        },
        "id": "O6ONtB4ohai_",
        "outputId": "8f592d50-f21b-47b0-85f6-846532793c0e"
      },
      "source": [
        "# 전체 OPS 예측 rmse\n",
        "np.sqrt(mean_squared_error(crawl_data['marcel_ops'].values, crawl_data['OPS'].values))"
      ],
      "execution_count": 13,
      "outputs": [
        {
          "output_type": "execute_result",
          "data": {
            "text/plain": [
              "0.09806704699011247"
            ]
          },
          "metadata": {},
          "execution_count": 13
        }
      ]
    },
    {
      "cell_type": "code",
      "metadata": {
        "colab": {
          "base_uri": "https://localhost:8080/"
        },
        "id": "NO67JqMchr-w",
        "outputId": "02249fe6-35d3-4745-f10f-844a95b999e9"
      },
      "source": [
        "# 전체 slg 예측 rmse\n",
        "np.sqrt(mean_squared_error(crawl_data['marcel_slg'], crawl_data['SLG']))"
      ],
      "execution_count": 14,
      "outputs": [
        {
          "output_type": "execute_result",
          "data": {
            "text/plain": [
              "0.060937781003454504"
            ]
          },
          "metadata": {},
          "execution_count": 14
        }
      ]
    },
    {
      "cell_type": "code",
      "metadata": {
        "colab": {
          "base_uri": "https://localhost:8080/"
        },
        "id": "cXf2KdnsiLct",
        "outputId": "bf429d2b-e54a-44b9-ddd2-bd847a71812b"
      },
      "source": [
        "# 전체 obp 예측 rmse\n",
        "np.sqrt(mean_squared_error(crawl_data['marcel_obp'], crawl_data['OBP']))"
      ],
      "execution_count": 15,
      "outputs": [
        {
          "output_type": "execute_result",
          "data": {
            "text/plain": [
              "0.042287602793685375"
            ]
          },
          "metadata": {},
          "execution_count": 15
        }
      ]
    },
    {
      "cell_type": "code",
      "metadata": {
        "colab": {
          "base_uri": "https://localhost:8080/"
        },
        "id": "7i8HI4cyiRC0",
        "outputId": "4c150642-b8d5-449c-e670-f7a5f5788786"
      },
      "source": [
        "# 전체 slg + obp 예측 rmse\n",
        "np.sqrt(mean_squared_error(crawl_data['marcel_slg'] + crawl_data['marcel_obp'], crawl_data['OPS']))"
      ],
      "execution_count": 16,
      "outputs": [
        {
          "output_type": "execute_result",
          "data": {
            "text/plain": [
              "0.0981110061633625"
            ]
          },
          "metadata": {},
          "execution_count": 16
        }
      ]
    },
    {
      "cell_type": "code",
      "metadata": {
        "id": "cPE-P1svieCJ"
      },
      "source": [
        ""
      ],
      "execution_count": 16,
      "outputs": []
    },
    {
      "cell_type": "code",
      "metadata": {
        "id": "_Og0AZCjiQYo"
      },
      "source": [
        "# 2020년만 보고싶다면?\n",
        "crawl_data_2020 = crawl_data[crawl_data['GYEAR']==2020]"
      ],
      "execution_count": 17,
      "outputs": []
    },
    {
      "cell_type": "code",
      "metadata": {
        "colab": {
          "base_uri": "https://localhost:8080/"
        },
        "id": "KxdUpuVhih-T",
        "outputId": "74194260-9b3b-473d-f147-7b21fae2b963"
      },
      "source": [
        "# rmse 계산 : OPS\n",
        "np.sqrt(mean_squared_error(crawl_data_2020['marcel_ops'], crawl_data_2020['OPS']))"
      ],
      "execution_count": 18,
      "outputs": [
        {
          "output_type": "execute_result",
          "data": {
            "text/plain": [
              "0.08024603666340463"
            ]
          },
          "metadata": {},
          "execution_count": 18
        }
      ]
    },
    {
      "cell_type": "code",
      "metadata": {
        "colab": {
          "base_uri": "https://localhost:8080/"
        },
        "id": "2cI2UXPS2w4o",
        "outputId": "f41b78f4-424b-4cee-c52c-b7caadd2ad29"
      },
      "source": [
        "# rmse 계산 : SLG\n",
        "np.sqrt(mean_squared_error(crawl_data_2020['marcel_slg'], crawl_data_2020['SLG']))"
      ],
      "execution_count": 19,
      "outputs": [
        {
          "output_type": "execute_result",
          "data": {
            "text/plain": [
              "0.05074218704852334"
            ]
          },
          "metadata": {},
          "execution_count": 19
        }
      ]
    },
    {
      "cell_type": "code",
      "metadata": {
        "colab": {
          "base_uri": "https://localhost:8080/"
        },
        "id": "2vRxo2MP22qc",
        "outputId": "91023281-bce9-4dab-ca4d-70356a60074f"
      },
      "source": [
        "# rmse 계산 : OBP\n",
        "np.sqrt(mean_squared_error(crawl_data_2020['marcel_obp'], crawl_data_2020['OBP']))"
      ],
      "execution_count": 20,
      "outputs": [
        {
          "output_type": "execute_result",
          "data": {
            "text/plain": [
              "0.03755770590629063"
            ]
          },
          "metadata": {},
          "execution_count": 20
        }
      ]
    },
    {
      "cell_type": "markdown",
      "metadata": {
        "id": "d5ZkBg6Tpc5T"
      },
      "source": [
        "\n",
        "\n",
        "아래는 리그 평균값들을 가중평균이 아니라 단순 average로 계산해서 예측한 값"
      ]
    },
    {
      "cell_type": "code",
      "metadata": {
        "id": "b2FlXaetpYW4"
      },
      "source": [
        "# final_data에 맞춘 marcel 예상치 \n",
        "def marcel_projection_avg(pred, code, find_year, data = crawl_data): # 예측할 값, 선수 코드, 예측할 년도 \n",
        "  find = data[(data['PCODE'] == code)&(data['GYEAR']== find_year)] # 해당 선수만 필터링\n",
        "  age = find['AGE'].values[0] # 나이 찾기\n",
        "\n",
        "  # 1. 가중 평균 (1년전 : 5, 2년전 : 4, 3년전 : 3)\n",
        "  player_mean = find[f'{pred}_LAG1'] * 5 + find[f'{pred}_LAG2'] * 4 + find[f'{pred}_LAG3'] * 3  \n",
        "  player_mean = player_mean/12\n",
        "\n",
        "  # 2, 3. 타석에도 가중치 \n",
        "  sum_pa = find['PA_LAG1'] * 5 + find['PA_LAG2'] * 4 + find['PA_LAG1'] * 3\n",
        "  r = sum_pa / (sum_pa + 1200) \n",
        "\n",
        "  # 4. 리그 평균값 구하기 \n",
        "  lag1_mean = find[f'{pred}_seasonal_MEAN_LAG1']\n",
        "  lag2_mean = find[f'{pred}_seasonal_MEAN_LAG2']\n",
        "  lag3_mean = find[f'{pred}_seasonal_MEAN_LAG3']\n",
        "\n",
        "  # 4. 리그 평균값 : average\n",
        "  reg_mean = (lag3_mean + lag2_mean + lag1_mean)/3\n",
        "#  reg_mean = (lag3_mean * 3 + lag2_mean * 4 + lag1_mean * 5)/12\n",
        "\n",
        "  # 5. 회귀\n",
        "  marcel = player_mean * r +  reg_mean * (1-r)\n",
        "\n",
        "  # 6. 나이에 따라 가중치\n",
        "  if age > 29:\n",
        "    aging = 1 + (29 - age) * 0.003\n",
        "  else:\n",
        "    aging = 1 + (age - 29) * 0.006\n",
        "\n",
        "  if marcel.isnull().any() == True:  # null값이면 그냥 원래 값 대입하기 -> rmse계산에서 0이 되어 영향이 사라짐 \n",
        "    return find[pred].values[0]\n",
        "  else:\n",
        "    return list(marcel * aging)[0]\n"
      ],
      "execution_count": 21,
      "outputs": []
    },
    {
      "cell_type": "code",
      "metadata": {
        "id": "faTut0VujkPp"
      },
      "source": [
        "# 전체 예측\n",
        "crawl_data['marcel_ops2'] = crawl_data.apply(lambda x: marcel_projection_avg('OPS', x['PCODE'], x['GYEAR']), axis = 1)\n",
        "crawl_data['marcel_slg2'] = crawl_data.apply(lambda x:  marcel_projection_avg('SLG', x['PCODE'], x['GYEAR']), axis = 1)\n",
        "crawl_data['marcel_obp2'] = crawl_data.apply(lambda x:  marcel_projection_avg('OBP', x['PCODE'], x['GYEAR']), axis = 1)"
      ],
      "execution_count": 22,
      "outputs": []
    },
    {
      "cell_type": "code",
      "metadata": {
        "colab": {
          "base_uri": "https://localhost:8080/"
        },
        "id": "pbvD8tjNj2mC",
        "outputId": "8dbc27a0-ab2c-4ad6-8209-66f98a7802e4"
      },
      "source": [
        "# 전체 OPS 예측 rmse\n",
        "np.sqrt(mean_squared_error(crawl_data['marcel_ops2'], crawl_data['OPS']))"
      ],
      "execution_count": 23,
      "outputs": [
        {
          "output_type": "execute_result",
          "data": {
            "text/plain": [
              "0.09808298621910534"
            ]
          },
          "metadata": {},
          "execution_count": 23
        }
      ]
    },
    {
      "cell_type": "code",
      "metadata": {
        "colab": {
          "base_uri": "https://localhost:8080/"
        },
        "id": "MCu1XCBDj8GA",
        "outputId": "38bf3de8-9642-4f94-e806-2bb27450f719"
      },
      "source": [
        "# 전체 slg 예측 rmse\n",
        "np.sqrt(mean_squared_error(crawl_data['marcel_slg2'], crawl_data['SLG']))"
      ],
      "execution_count": 24,
      "outputs": [
        {
          "output_type": "execute_result",
          "data": {
            "text/plain": [
              "0.060961178453441824"
            ]
          },
          "metadata": {},
          "execution_count": 24
        }
      ]
    },
    {
      "cell_type": "code",
      "metadata": {
        "colab": {
          "base_uri": "https://localhost:8080/"
        },
        "id": "6oAqEPRLkDqV",
        "outputId": "86f3d6be-9c13-4c55-be4e-b043fd236ae5"
      },
      "source": [
        "# 전체 obp 예측 rmse\n",
        "np.sqrt(mean_squared_error(crawl_data['marcel_obp2'], crawl_data['OBP']))"
      ],
      "execution_count": 25,
      "outputs": [
        {
          "output_type": "execute_result",
          "data": {
            "text/plain": [
              "0.042274669037691906"
            ]
          },
          "metadata": {},
          "execution_count": 25
        }
      ]
    },
    {
      "cell_type": "code",
      "metadata": {
        "colab": {
          "base_uri": "https://localhost:8080/"
        },
        "id": "jVxpmY03kJFS",
        "outputId": "654be93c-4d1a-492e-b217-56b6dd71508e"
      },
      "source": [
        "# 전체 slg + obp 예측 rmse\n",
        "np.sqrt(mean_squared_error(crawl_data['marcel_slg2'] + crawl_data['marcel_obp2'], crawl_data['OPS']))"
      ],
      "execution_count": 26,
      "outputs": [
        {
          "output_type": "execute_result",
          "data": {
            "text/plain": [
              "0.09812243440950322"
            ]
          },
          "metadata": {},
          "execution_count": 26
        }
      ]
    },
    {
      "cell_type": "markdown",
      "metadata": {
        "id": "qNBdgp1Xs-mD"
      },
      "source": [
        "리그 평균도 가중 평균일 때 rmse가 더 작으므로 그 방법으로 10명 선수 예측값만 도출하기\n",
        "\n"
      ]
    }
  ]
}